{
 "cells": [
  {
   "cell_type": "code",
   "execution_count": 19,
   "id": "97aea44c",
   "metadata": {},
   "outputs": [],
   "source": [
    "import nltk, re, pprint\n",
    "from nltk import word_tokenize\n",
    "import re\n",
    "import string"
   ]
  },
  {
   "cell_type": "code",
   "execution_count": 22,
   "id": "f8e8f24b",
   "metadata": {},
   "outputs": [],
   "source": [
    "file = open('aesop.txt')\n",
    "\n",
    "text = ''\n",
    "\n",
    "for line in file:\n",
    "    if line != \"[Illustration]\\n\":\n",
    "        text += line.replace('\\n',' ').replace('\\\"', '').replace('!','.').replace('?','.').replace(',','')\n",
    "        if len(text.split())> 990:\n",
    "            break\n",
    "sentences = text.split('.')\n",
    "sentences = [x.lower().strip(string.whitespace) for x in sentences]\n",
    "tokenized = [re.findall(r'[\\w]+',sentence) for sentence in sentences]\n",
    "tokens = [item for sublist in tokenized for item in sublist]\n",
    "\n",
    "\n"
   ]
  },
  {
   "cell_type": "code",
   "execution_count": 23,
   "id": "d7ca4fc5",
   "metadata": {},
   "outputs": [
    {
     "name": "stdout",
     "output_type": "stream",
     "text": [
      "Number of words:  994\n",
      "Number of sentences:  63\n",
      "No. of hapaxes:  288\n",
      "Size of Vocabulary:  411\n",
      "Length of sentences:  15.777777777777779\n",
      "[('the', 86), ('a', 46), ('and', 34), ('to', 31), ('of', 23), ('he', 22), ('him', 14), ('in', 14), ('his', 14), ('with', 10)]\n"
     ]
    }
   ],
   "source": [
    "# Number of words\n",
    "length = [len(x) for x in tokenized]\n",
    "length = sum(length)\n",
    "print(\"Number of words: \", length)\n",
    "\n",
    "# No sentences\n",
    "no_sentences = len(sentences)\n",
    "print(\"Number of sentences: \", no_sentences)\n",
    "\n",
    "# Hapaxes\n",
    "count = {}\n",
    "for sentence in tokenized:\n",
    "    for word in sentence:\n",
    "        if word in count:\n",
    "            count[word] += 1\n",
    "        else:\n",
    "            count[word] = 1\n",
    "\n",
    "hapaxes = []\n",
    "for word in count.keys():\n",
    "    if count[word] == 1:\n",
    "        hapaxes.append(word)\n",
    "print(\"No. of hapaxes: \",len(hapaxes))\n",
    "\n",
    "# Lemmas\n",
    "wnl = nltk.WordNetLemmatizer()\n",
    "lemmas = {wnl.lemmatize(t) for t in tokens}\n",
    "print(\"Size of Vocabulary: \",len(lemmas))\n",
    "\n",
    "# Length of sentences\n",
    "print(\"Length of sentences: \", length/(no_sentences))\n",
    "\n",
    "# Most frequent words\n",
    "freq = dict()\n",
    "for word in tokens:\n",
    "    w = wnl.lemmatize(word)\n",
    "    if w in freq:\n",
    "        freq[w] += 1\n",
    "    else:\n",
    "        freq[w] = 1\n",
    "freq = list(freq.items())\n",
    "freq.sort(reverse = True, key = lambda x: x[1])\n",
    "print(freq[:10])\n"
   ]
  },
  {
   "cell_type": "code",
   "execution_count": 9,
   "id": "daa1f06a",
   "metadata": {},
   "outputs": [
    {
     "data": {
      "image/png": "[encoded data removed]",
      "text/plain": [
       "<Figure size 432x288 with 1 Axes>"
      ]
     },
     "metadata": {
      "needs_background": "light"
     },
     "output_type": "display_data"
    }
   ],
   "source": [
    "import matplotlib.pyplot as plt\n",
    "\n",
    "frequencies = [x[1] for x in freq]\n",
    "lab = [x[0] for x in freq]\n",
    "\n",
    "plt.bar(lab[:10],frequencies[:10])\n",
    "plt.show()"
   ]
  },
  {
   "cell_type": "code",
   "execution_count": 9,
   "id": "39c05eb5",
   "metadata": {},
   "outputs": [
    {
     "name": "stdout",
     "output_type": "stream",
     "text": [
      "its\n"
     ]
    }
   ],
   "source": [
    "# No of spelling mistakes\n",
    "f = open('wordlist.txt')\n",
    "wordlist = []\n",
    "for word in f:\n",
    "    wordlist.append(word)\n",
    "wordlist = set(wordlist)\n",
    "misspelled = []\n",
    "for word in tokens:\n",
    "    if word not in wordlist:\n",
    "        misspelled.append(word)\n",
    "print(word)"
   ]
  },
  {
   "cell_type": "code",
   "execution_count": 8,
   "id": "d11f87b4",
   "metadata": {},
   "outputs": [
    {
     "name": "stdout",
     "output_type": "stream",
     "text": [
      "63 63\n"
     ]
    }
   ],
   "source": [
    "print(len(sentences), len(tokenized))"
   ]
  },
  {
   "cell_type": "code",
   "execution_count": 25,
   "id": "6cc89a0b",
   "metadata": {},
   "outputs": [
    {
     "name": "stdout",
     "output_type": "stream",
     "text": [
      "the wolf turned shepherd\n",
      "a wolf finding that the sheep were so afraid of him that he could not get near them disguised himself in the dress of a shepherd and thus attired approached the flock\n",
      "as he came near he found the shepherd fast asleep\n",
      "as the sheep did not run away he resolved to imitate the voice of the shepherd\n",
      "in trying to do so he only howled and awoke the shepherd\n",
      "as he could not run away he was soon killed\n",
      "those who attempt to act in disguise are apt to overdo it\n",
      "the stag at the pool\n",
      "a stag saw his shadow reflected in the water and greatly admired the size of his horns but felt angry with himself for having such weak feet\n",
      "while he was thus contemplating himself a lion appeared at the pool\n",
      "the stag betook himself to flight and kept himself with ease at a safe distance from the lion until he entered a wood and became entangled with his horns\n",
      "the lion quickly came up with him and caught him\n",
      "when too late he thus reproached himself: woe is me\n",
      "how have i deceived myself\n",
      "these feet which would have saved me i despised and i gloried in these antlers which have proved my destruction\n",
      "what is most truly valuable is often underrated\n",
      "the fox and the mask\n",
      "a fox entered the house of an actor and rummaging through all his properties came upon a mask an admirable imitation of a human head\n",
      "he placed his paws on it and said: what a beautiful head\n",
      "yet it is of no value as it entirely wants brains\n",
      "a fair face is of little use without sense\n",
      "the bear and the fox\n",
      "a bear boasted very much of his philanthropy saying that of all animals he was the most tender in his regard for man for he had such respect for him that he would not even touch his dead body\n",
      "a fox hearing these words said with a smile to the bear: oh that you would eat the dead and not the living\n",
      "we should not wait till a person is dead to give him our respect\n",
      "the wolf and the lamb\n",
      "a wolf meeting with a lamb astray from the fold resolved not to lay violent hands on him but to find some plea which should justify to the lamb himself his right to eat him\n",
      "he then addressed him: sirrah last year you grossly insulted me\n",
      "indeed bleated the lamb in a mournful tone of voice i was not then born\n",
      "then said the wolf: you feed in my pasture\n",
      "no good sir replied the lamb i have not yet tasted grass\n",
      "again said the wolf: you drink of my well\n",
      "no exclaimed the lamb i never yet drank water for as yet my mother's milk is both food and drink to me\n",
      "on which the wolf seized him and ate him up saying: well\n",
      "i won't remain supperless even though you refute every one of my imputations\n",
      "the tyrant will always find a pretext for his tyranny and it is useless for the innocent to try by reasoning to get justice when the oppressor intends to be unjust\n",
      "the one-eyed doe\n",
      "a doe blind of an eye was accustomed to graze as near to the edge of the sea as she possibly could to secure greater safety\n",
      "she turned her eye towards the land that she might perceive the approach of a hunter or hound and her injured eye towards the sea from which she entertained no anticipation of danger\n",
      "some boatmen sailing by saw her and taking a successful aim mortally wounded her\n",
      "said she: o wretched creature that i am\n",
      "to take such precaution against the land and after all to find this seashore to which i had come for safety so much more perilous\n",
      "danger sometimes comes from a source that is least suspected\n",
      "the dog cock and fox\n",
      "a dog and a cock traveling together took shelter at night in a thick wood\n",
      "the cock perched himself on a high branch while the dog found a bed at the foot of the tree\n",
      "when morning dawned the cock as usual crowed very loudly\n",
      "a fox hearing the sound and wishing to make a breakfast on him came and stood under the branches saying how earnestly he desired to make the acquaintance of the owner of so sweet a voice\n",
      "if you will admit me said he i should very much like to spend the day with you\n",
      "the cock said: sir do me the favor to go round and wake up my porter that he may open the door and let you in\n",
      "on the fox approaching the tree the dog sprang out and caught him and quickly tore him in pieces\n",
      "those who try to entrap others are often caught by their own schemes\n",
      "the mouse the frog and the hawk\n",
      "a mouse by an unlucky chance formed an intimate acquaintance with a frog\n",
      "the frog one day intent on mischief bound the foot of the mouse tightly to his own\n",
      "thus joined together the frog led his friend toward the pool in which he lived until he reached the very brink when suddenly jumping in he dragged the mouse in with him\n",
      "the frog enjoyed the water amazingly and swam croaking about as if he had done a meritorious action\n",
      "the unhappy mouse was soon suffocated with the water and his dead body floated about on the surface tied to the foot of the frog\n",
      "a hawk observed it and pouncing upon it carried it up aloft\n",
      "the frog being still fastened to the leg of the mouse was also carried off a prisoner and was eaten by the hawk\n",
      "harm hatch harm catch\n",
      "the dog and the oyster\n",
      "a dog used to eating eggs saw an oyster and opening his mouth to its\n"
     ]
    }
   ],
   "source": [
    "for sentence in sentences:\n",
    "    print(sentence)"
   ]
  },
  {
   "cell_type": "code",
   "execution_count": 10,
   "id": "af3e40b8",
   "metadata": {},
   "outputs": [],
   "source": [
    "\n",
    "marked = [nltk.pos_tag(text) for text in tokenized]\n"
   ]
  },
  {
   "cell_type": "code",
   "execution_count": 11,
   "id": "6c2225b4",
   "metadata": {},
   "outputs": [
    {
     "name": "stdout",
     "output_type": "stream",
     "text": [
      "[[('the', 'DT'), ('wolf', 'NN'), ('turned', 'VBD'), ('shepherd', 'JJ')], [('a', 'DT'), ('wolf', 'NN'), ('finding', 'VBG'), ('that', 'IN'), ('the', 'DT'), ('sheep', 'NN'), ('were', 'VBD'), ('so', 'RB'), ('afraid', 'JJ'), ('of', 'IN'), ('him', 'PRP'), ('that', 'IN'), ('he', 'PRP'), ('could', 'MD'), ('not', 'RB'), ('get', 'VB'), ('near', 'IN'), ('them', 'PRP'), ('disguised', 'VBD'), ('himself', 'PRP'), ('in', 'IN'), ('the', 'DT'), ('dress', 'NN'), ('of', 'IN'), ('a', 'DT'), ('shepherd', 'NN'), ('and', 'CC'), ('thus', 'RB'), ('attired', 'VBN'), ('approached', 'VBD'), ('the', 'DT'), ('flock', 'NN')], [('as', 'IN'), ('he', 'PRP'), ('came', 'VBD'), ('near', 'IN'), ('he', 'PRP'), ('found', 'VBD'), ('the', 'DT'), ('shepherd', 'NN'), ('fast', 'RB'), ('asleep', 'JJ')], [('as', 'IN'), ('the', 'DT'), ('sheep', 'NN'), ('did', 'VBD'), ('not', 'RB'), ('run', 'VB'), ('away', 'RB'), ('he', 'PRP'), ('resolved', 'VBD'), ('to', 'TO'), ('imitate', 'VB'), ('the', 'DT'), ('voice', 'NN'), ('of', 'IN'), ('the', 'DT'), ('shepherd', 'NN')], [('in', 'IN'), ('trying', 'VBG'), ('to', 'TO'), ('do', 'VB'), ('so', 'RB'), ('he', 'PRP'), ('only', 'RB'), ('howled', 'VBD'), ('and', 'CC'), ('awoke', 'VBD'), ('the', 'DT'), ('shepherd', 'NN')], [('as', 'IN'), ('he', 'PRP'), ('could', 'MD'), ('not', 'RB'), ('run', 'VB'), ('away', 'RB'), ('he', 'PRP'), ('was', 'VBD'), ('soon', 'RB'), ('killed', 'VBN')], [('those', 'DT'), ('who', 'WP'), ('attempt', 'VBP'), ('to', 'TO'), ('act', 'VB'), ('in', 'IN'), ('disguise', 'NN'), ('are', 'VBP'), ('apt', 'JJ'), ('to', 'TO'), ('overdo', 'VB'), ('it', 'PRP')], [('the', 'DT'), ('stag', 'NN'), ('at', 'IN'), ('the', 'DT'), ('pool', 'NN')], [('a', 'DT'), ('stag', 'NN'), ('saw', 'VBD'), ('his', 'PRP$'), ('shadow', 'NN'), ('reflected', 'VBD'), ('in', 'IN'), ('the', 'DT'), ('water', 'NN'), ('and', 'CC'), ('greatly', 'RB'), ('admired', 'VBD'), ('the', 'DT'), ('size', 'NN'), ('of', 'IN'), ('his', 'PRP$'), ('horns', 'NNS'), ('but', 'CC'), ('felt', 'VBD'), ('angry', 'JJ'), ('with', 'IN'), ('himself', 'PRP'), ('for', 'IN'), ('having', 'VBG'), ('such', 'JJ'), ('weak', 'JJ'), ('feet', 'NNS')], [('while', 'IN'), ('he', 'PRP'), ('was', 'VBD'), ('thus', 'RB'), ('contemplating', 'VBG'), ('himself', 'PRP'), ('a', 'DT'), ('lion', 'NN'), ('appeared', 'VBD'), ('at', 'IN'), ('the', 'DT'), ('pool', 'NN')], [('the', 'DT'), ('stag', 'JJ'), ('betook', 'NN'), ('himself', 'PRP'), ('to', 'TO'), ('flight', 'NN'), ('and', 'CC'), ('kept', 'VBD'), ('himself', 'PRP'), ('with', 'IN'), ('ease', 'NN'), ('at', 'IN'), ('a', 'DT'), ('safe', 'JJ'), ('distance', 'NN'), ('from', 'IN'), ('the', 'DT'), ('lion', 'NN'), ('until', 'IN'), ('he', 'PRP'), ('entered', 'VBD'), ('a', 'DT'), ('wood', 'NN'), ('and', 'CC'), ('became', 'VBD'), ('entangled', 'VBN'), ('with', 'IN'), ('his', 'PRP$'), ('horns', 'NNS')], [('the', 'DT'), ('lion', 'NN'), ('quickly', 'RB'), ('came', 'VBD'), ('up', 'RP'), ('with', 'IN'), ('him', 'PRP'), ('and', 'CC'), ('caught', 'VBD'), ('him', 'PRP')], [('when', 'WRB'), ('too', 'RB'), ('late', 'RB'), ('he', 'PRP'), ('thus', 'RB'), ('reproached', 'VBD'), ('himself', 'PRP'), ('woe', 'NN'), ('is', 'VBZ'), ('me', 'PRP')], [('how', 'WRB'), ('have', 'VBP'), ('i', 'VBN'), ('deceived', 'VBN'), ('myself', 'PRP')], [('these', 'DT'), ('feet', 'NNS'), ('which', 'WDT'), ('would', 'MD'), ('have', 'VB'), ('saved', 'VBN'), ('me', 'PRP'), ('i', 'VB'), ('despised', 'VBN'), ('and', 'CC'), ('i', 'JJ'), ('gloried', 'VBN'), ('in', 'IN'), ('these', 'DT'), ('antlers', 'NNS'), ('which', 'WDT'), ('have', 'VBP'), ('proved', 'VBN'), ('my', 'PRP$'), ('destruction', 'NN')], [('what', 'WP'), ('is', 'VBZ'), ('most', 'RBS'), ('truly', 'RB'), ('valuable', 'JJ'), ('is', 'VBZ'), ('often', 'RB'), ('underrated', 'JJ')], [('the', 'DT'), ('fox', 'NN'), ('and', 'CC'), ('the', 'DT'), ('mask', 'NN')], [('a', 'DT'), ('fox', 'NN'), ('entered', 'VBD'), ('the', 'DT'), ('house', 'NN'), ('of', 'IN'), ('an', 'DT'), ('actor', 'NN'), ('and', 'CC'), ('rummaging', 'VBG'), ('through', 'IN'), ('all', 'PDT'), ('his', 'PRP$'), ('properties', 'NNS'), ('came', 'VBD'), ('upon', 'IN'), ('a', 'DT'), ('mask', 'NN'), ('an', 'DT'), ('admirable', 'JJ'), ('imitation', 'NN'), ('of', 'IN'), ('a', 'DT'), ('human', 'JJ'), ('head', 'NN')], [('he', 'PRP'), ('placed', 'VBD'), ('his', 'PRP$'), ('paws', 'NN'), ('on', 'IN'), ('it', 'PRP'), ('and', 'CC'), ('said', 'VBD'), ('what', 'WP'), ('a', 'DT'), ('beautiful', 'JJ'), ('head', 'NN')], [('yet', 'RB'), ('it', 'PRP'), ('is', 'VBZ'), ('of', 'IN'), ('no', 'DT'), ('value', 'NN'), ('as', 'IN'), ('it', 'PRP'), ('entirely', 'RB'), ('wants', 'VBZ'), ('brains', 'NNS')], [('a', 'DT'), ('fair', 'JJ'), ('face', 'NN'), ('is', 'VBZ'), ('of', 'IN'), ('little', 'JJ'), ('use', 'NN'), ('without', 'IN'), ('sense', 'NN')], [('the', 'DT'), ('bear', 'NN'), ('and', 'CC'), ('the', 'DT'), ('fox', 'NN')], [('a', 'DT'), ('bear', 'NN'), ('boasted', 'VBN'), ('very', 'RB'), ('much', 'JJ'), ('of', 'IN'), ('his', 'PRP$'), ('philanthropy', 'NN'), ('saying', 'VBG'), ('that', 'IN'), ('of', 'IN'), ('all', 'DT'), ('animals', 'NNS'), ('he', 'PRP'), ('was', 'VBD'), ('the', 'DT'), ('most', 'RBS'), ('tender', 'NN'), ('in', 'IN'), ('his', 'PRP$'), ('regard', 'NN'), ('for', 'IN'), ('man', 'NN'), ('for', 'IN'), ('he', 'PRP'), ('had', 'VBD'), ('such', 'JJ'), ('respect', 'NN'), ('for', 'IN'), ('him', 'PRP'), ('that', 'IN'), ('he', 'PRP'), ('would', 'MD'), ('not', 'RB'), ('even', 'RB'), ('touch', 'VB'), ('his', 'PRP$'), ('dead', 'JJ'), ('body', 'NN')], [('a', 'DT'), ('fox', 'NN'), ('hearing', 'VBG'), ('these', 'DT'), ('words', 'NNS'), ('said', 'VBD'), ('with', 'IN'), ('a', 'DT'), ('smile', 'NN'), ('to', 'TO'), ('the', 'DT'), ('bear', 'NN'), ('oh', 'IN'), ('that', 'IN'), ('you', 'PRP'), ('would', 'MD'), ('eat', 'VB'), ('the', 'DT'), ('dead', 'JJ'), ('and', 'CC'), ('not', 'RB'), ('the', 'DT'), ('living', 'NN')], [('we', 'PRP'), ('should', 'MD'), ('not', 'RB'), ('wait', 'VB'), ('till', 'VB'), ('a', 'DT'), ('person', 'NN'), ('is', 'VBZ'), ('dead', 'JJ'), ('to', 'TO'), ('give', 'VB'), ('him', 'PRP'), ('our', 'PRP$'), ('respect', 'NN')], [('the', 'DT'), ('wolf', 'NN'), ('and', 'CC'), ('the', 'DT'), ('lamb', 'NN')], [('a', 'DT'), ('wolf', 'NN'), ('meeting', 'NN'), ('with', 'IN'), ('a', 'DT'), ('lamb', 'JJ'), ('astray', 'NN'), ('from', 'IN'), ('the', 'DT'), ('fold', 'NN'), ('resolved', 'VBD'), ('not', 'RB'), ('to', 'TO'), ('lay', 'VB'), ('violent', 'JJ'), ('hands', 'NNS'), ('on', 'IN'), ('him', 'PRP'), ('but', 'CC'), ('to', 'TO'), ('find', 'VB'), ('some', 'DT'), ('plea', 'NN'), ('which', 'WDT'), ('should', 'MD'), ('justify', 'VB'), ('to', 'TO'), ('the', 'DT'), ('lamb', 'NN'), ('himself', 'PRP'), ('his', 'PRP$'), ('right', 'NN'), ('to', 'TO'), ('eat', 'VB'), ('him', 'PRP')], [('he', 'PRP'), ('then', 'RB'), ('addressed', 'VBD'), ('him', 'PRP'), ('sirrah', 'VB'), ('last', 'JJ'), ('year', 'NN'), ('you', 'PRP'), ('grossly', 'RB'), ('insulted', 'VBD'), ('me', 'PRP')], [('indeed', 'RB'), ('bleated', 'VBN'), ('the', 'DT'), ('lamb', 'NN'), ('in', 'IN'), ('a', 'DT'), ('mournful', 'JJ'), ('tone', 'NN'), ('of', 'IN'), ('voice', 'NN'), ('i', 'NN'), ('was', 'VBD'), ('not', 'RB'), ('then', 'RB'), ('born', 'VB')], [('then', 'RB'), ('said', 'VBD'), ('the', 'DT'), ('wolf', 'NN'), ('you', 'PRP'), ('feed', 'VBP'), ('in', 'IN'), ('my', 'PRP$'), ('pasture', 'NN')], [('no', 'DT'), ('good', 'JJ'), ('sir', 'NN'), ('replied', 'VBD'), ('the', 'DT'), ('lamb', 'NN'), ('i', 'NN'), ('have', 'VBP'), ('not', 'RB'), ('yet', 'RB'), ('tasted', 'VBN'), ('grass', 'NN')], [('again', 'RB'), ('said', 'VBD'), ('the', 'DT'), ('wolf', 'NN'), ('you', 'PRP'), ('drink', 'VBP'), ('of', 'IN'), ('my', 'PRP$'), ('well', 'NN')], [('no', 'DT'), ('exclaimed', 'VBD'), ('the', 'DT'), ('lamb', 'NN'), ('i', 'NN'), ('never', 'RB'), ('yet', 'RB'), ('drank', 'JJ'), ('water', 'NN'), ('for', 'IN'), ('as', 'IN'), ('yet', 'RB'), ('my', 'PRP$'), ('mother', 'NN'), ('s', 'JJ'), ('milk', 'NN'), ('is', 'VBZ'), ('both', 'DT'), ('food', 'NN'), ('and', 'CC'), ('drink', 'NN'), ('to', 'TO'), ('me', 'PRP')], [('on', 'IN'), ('which', 'WDT'), ('the', 'DT'), ('wolf', 'NN'), ('seized', 'VBD'), ('him', 'PRP'), ('and', 'CC'), ('ate', 'VB'), ('him', 'PRP'), ('up', 'RP'), ('saying', 'VBG'), ('well', 'RB')], [('i', 'NN'), ('won', 'VBD'), ('t', 'RB'), ('remain', 'JJ'), ('supperless', 'JJ'), ('even', 'RB'), ('though', 'IN'), ('you', 'PRP'), ('refute', 'VBP'), ('every', 'DT'), ('one', 'CD'), ('of', 'IN'), ('my', 'PRP$'), ('imputations', 'NNS')], [('the', 'DT'), ('tyrant', 'NN'), ('will', 'MD'), ('always', 'RB'), ('find', 'VB'), ('a', 'DT'), ('pretext', 'NN'), ('for', 'IN'), ('his', 'PRP$'), ('tyranny', 'NN'), ('and', 'CC'), ('it', 'PRP'), ('is', 'VBZ'), ('useless', 'JJ'), ('for', 'IN'), ('the', 'DT'), ('innocent', 'NN'), ('to', 'TO'), ('try', 'VB'), ('by', 'IN'), ('reasoning', 'VBG'), ('to', 'TO'), ('get', 'VB'), ('justice', 'NN'), ('when', 'WRB'), ('the', 'DT'), ('oppressor', 'NN'), ('intends', 'VBZ'), ('to', 'TO'), ('be', 'VB'), ('unjust', 'JJ')], [('the', 'DT'), ('one', 'CD'), ('eyed', 'NN'), ('doe', 'NN')], [('a', 'DT'), ('doe', 'JJ'), ('blind', 'NN'), ('of', 'IN'), ('an', 'DT'), ('eye', 'NN'), ('was', 'VBD'), ('accustomed', 'VBN'), ('to', 'TO'), ('graze', 'VB'), ('as', 'IN'), ('near', 'IN'), ('to', 'TO'), ('the', 'DT'), ('edge', 'NN'), ('of', 'IN'), ('the', 'DT'), ('sea', 'NN'), ('as', 'IN'), ('she', 'PRP'), ('possibly', 'RB'), ('could', 'MD'), ('to', 'TO'), ('secure', 'VB'), ('greater', 'JJR'), ('safety', 'NN')], [('she', 'PRP'), ('turned', 'VBD'), ('her', 'PRP'), ('eye', 'NN'), ('towards', 'IN'), ('the', 'DT'), ('land', 'NN'), ('that', 'IN'), ('she', 'PRP'), ('might', 'MD'), ('perceive', 'VB'), ('the', 'DT'), ('approach', 'NN'), ('of', 'IN'), ('a', 'DT'), ('hunter', 'NN'), ('or', 'CC'), ('hound', 'NN'), ('and', 'CC'), ('her', 'PRP$'), ('injured', 'JJ'), ('eye', 'NN'), ('towards', 'IN'), ('the', 'DT'), ('sea', 'NN'), ('from', 'IN'), ('which', 'WDT'), ('she', 'PRP'), ('entertained', 'VBD'), ('no', 'DT'), ('anticipation', 'NN'), ('of', 'IN'), ('danger', 'NN')], [('some', 'DT'), ('boatmen', 'NNS'), ('sailing', 'VBG'), ('by', 'IN'), ('saw', 'NN'), ('her', 'PRP$'), ('and', 'CC'), ('taking', 'VBG'), ('a', 'DT'), ('successful', 'JJ'), ('aim', 'NN'), ('mortally', 'RB'), ('wounded', 'VBD'), ('her', 'PRP')], [('said', 'VBD'), ('she', 'PRP'), ('o', 'VBD'), ('wretched', 'JJ'), ('creature', 'NN'), ('that', 'IN'), ('i', 'NN'), ('am', 'VBP')], [('to', 'TO'), ('take', 'VB'), ('such', 'JJ'), ('precaution', 'NN'), ('against', 'IN'), ('the', 'DT'), ('land', 'NN'), ('and', 'CC'), ('after', 'IN'), ('all', 'DT'), ('to', 'TO'), ('find', 'VB'), ('this', 'DT'), ('seashore', 'NN'), ('to', 'TO'), ('which', 'WDT'), ('i', 'NN'), ('had', 'VBD'), ('come', 'VBN'), ('for', 'IN'), ('safety', 'NN'), ('so', 'RB'), ('much', 'RB'), ('more', 'RBR'), ('perilous', 'JJ')], [('danger', 'NN'), ('sometimes', 'RB'), ('comes', 'VBZ'), ('from', 'IN'), ('a', 'DT'), ('source', 'NN'), ('that', 'WDT'), ('is', 'VBZ'), ('least', 'RBS'), ('suspected', 'JJ')], [('the', 'DT'), ('dog', 'NN'), ('cock', 'NN'), ('and', 'CC'), ('fox', 'NN')], [('a', 'DT'), ('dog', 'NN'), ('and', 'CC'), ('a', 'DT'), ('cock', 'NN'), ('traveling', 'VBG'), ('together', 'RB'), ('took', 'VBD'), ('shelter', 'NN'), ('at', 'IN'), ('night', 'NN'), ('in', 'IN'), ('a', 'DT'), ('thick', 'JJ'), ('wood', 'NN')], [('the', 'DT'), ('cock', 'NN'), ('perched', 'VBD'), ('himself', 'PRP'), ('on', 'IN'), ('a', 'DT'), ('high', 'JJ'), ('branch', 'NN'), ('while', 'IN'), ('the', 'DT'), ('dog', 'NN'), ('found', 'VBD'), ('a', 'DT'), ('bed', 'NN'), ('at', 'IN'), ('the', 'DT'), ('foot', 'NN'), ('of', 'IN'), ('the', 'DT'), ('tree', 'NN')], [('when', 'WRB'), ('morning', 'NN'), ('dawned', 'VBD'), ('the', 'DT'), ('cock', 'NN'), ('as', 'IN'), ('usual', 'JJ'), ('crowed', 'VBD'), ('very', 'RB'), ('loudly', 'RB')], [('a', 'DT'), ('fox', 'NN'), ('hearing', 'VBG'), ('the', 'DT'), ('sound', 'NN'), ('and', 'CC'), ('wishing', 'VBG'), ('to', 'TO'), ('make', 'VB'), ('a', 'DT'), ('breakfast', 'NN'), ('on', 'IN'), ('him', 'PRP'), ('came', 'VBD'), ('and', 'CC'), ('stood', 'VBD'), ('under', 'IN'), ('the', 'DT'), ('branches', 'NNS'), ('saying', 'VBG'), ('how', 'WRB'), ('earnestly', 'RB'), ('he', 'PRP'), ('desired', 'VBD'), ('to', 'TO'), ('make', 'VB'), ('the', 'DT'), ('acquaintance', 'NN'), ('of', 'IN'), ('the', 'DT'), ('owner', 'NN'), ('of', 'IN'), ('so', 'RB'), ('sweet', 'VB'), ('a', 'DT'), ('voice', 'NN')], [('if', 'IN'), ('you', 'PRP'), ('will', 'MD'), ('admit', 'VB'), ('me', 'PRP'), ('said', 'VBD'), ('he', 'PRP'), ('i', 'MD'), ('should', 'MD'), ('very', 'RB'), ('much', 'RB'), ('like', 'IN'), ('to', 'TO'), ('spend', 'VB'), ('the', 'DT'), ('day', 'NN'), ('with', 'IN'), ('you', 'PRP')], [('the', 'DT'), ('cock', 'NN'), ('said', 'VBD'), ('sir', 'NN'), ('do', 'VB'), ('me', 'PRP'), ('the', 'DT'), ('favor', 'NN'), ('to', 'TO'), ('go', 'VB'), ('round', 'NN'), ('and', 'CC'), ('wake', 'VB'), ('up', 'RP'), ('my', 'PRP$'), ('porter', 'NN'), ('that', 'IN'), ('he', 'PRP'), ('may', 'MD'), ('open', 'VB'), ('the', 'DT'), ('door', 'NN'), ('and', 'CC'), ('let', 'VB'), ('you', 'PRP'), ('in', 'IN')], [('on', 'IN'), ('the', 'DT'), ('fox', 'NN'), ('approaching', 'VBG'), ('the', 'DT'), ('tree', 'NN'), ('the', 'DT'), ('dog', 'NN'), ('sprang', 'VBD'), ('out', 'RP'), ('and', 'CC'), ('caught', 'VBD'), ('him', 'PRP'), ('and', 'CC'), ('quickly', 'RB'), ('tore', 'VBD'), ('him', 'PRP'), ('in', 'IN'), ('pieces', 'NNS')], [('those', 'DT'), ('who', 'WP'), ('try', 'VBP'), ('to', 'TO'), ('entrap', 'VB'), ('others', 'NNS'), ('are', 'VBP'), ('often', 'RB'), ('caught', 'VBN'), ('by', 'IN'), ('their', 'PRP$'), ('own', 'JJ'), ('schemes', 'NNS')], [('the', 'DT'), ('mouse', 'NN'), ('the', 'DT'), ('frog', 'NN'), ('and', 'CC'), ('the', 'DT'), ('hawk', 'NN')], [('a', 'DT'), ('mouse', 'NN'), ('by', 'IN'), ('an', 'DT'), ('unlucky', 'JJ'), ('chance', 'NN'), ('formed', 'VBD'), ('an', 'DT'), ('intimate', 'JJ'), ('acquaintance', 'NN'), ('with', 'IN'), ('a', 'DT'), ('frog', 'NN')], [('the', 'DT'), ('frog', 'JJ'), ('one', 'CD'), ('day', 'NN'), ('intent', 'NN'), ('on', 'IN'), ('mischief', 'NN'), ('bound', 'IN'), ('the', 'DT'), ('foot', 'NN'), ('of', 'IN'), ('the', 'DT'), ('mouse', 'NN'), ('tightly', 'RB'), ('to', 'TO'), ('his', 'PRP$'), ('own', 'JJ')], [('thus', 'RB'), ('joined', 'VBN'), ('together', 'RB'), ('the', 'DT'), ('frog', 'NN'), ('led', 'VBD'), ('his', 'PRP$'), ('friend', 'NN'), ('toward', 'IN'), ('the', 'DT'), ('pool', 'NN'), ('in', 'IN'), ('which', 'WDT'), ('he', 'PRP'), ('lived', 'VBD'), ('until', 'IN'), ('he', 'PRP'), ('reached', 'VBD'), ('the', 'DT'), ('very', 'RB'), ('brink', 'NN'), ('when', 'WRB'), ('suddenly', 'RB'), ('jumping', 'VBG'), ('in', 'IN'), ('he', 'PRP'), ('dragged', 'VBD'), ('the', 'DT'), ('mouse', 'NN'), ('in', 'IN'), ('with', 'IN'), ('him', 'PRP')], [('the', 'DT'), ('frog', 'NN'), ('enjoyed', 'VBD'), ('the', 'DT'), ('water', 'NN'), ('amazingly', 'RB'), ('and', 'CC'), ('swam', 'VB'), ('croaking', 'VBG'), ('about', 'IN'), ('as', 'IN'), ('if', 'IN'), ('he', 'PRP'), ('had', 'VBD'), ('done', 'VBN'), ('a', 'DT'), ('meritorious', 'JJ'), ('action', 'NN')], [('the', 'DT'), ('unhappy', 'JJ'), ('mouse', 'NN'), ('was', 'VBD'), ('soon', 'RB'), ('suffocated', 'VBN'), ('with', 'IN'), ('the', 'DT'), ('water', 'NN'), ('and', 'CC'), ('his', 'PRP$'), ('dead', 'JJ'), ('body', 'NN'), ('floated', 'VBD'), ('about', 'IN'), ('on', 'IN'), ('the', 'DT'), ('surface', 'NN'), ('tied', 'VBN'), ('to', 'TO'), ('the', 'DT'), ('foot', 'NN'), ('of', 'IN'), ('the', 'DT'), ('frog', 'NN')], [('a', 'DT'), ('hawk', 'NN'), ('observed', 'VBD'), ('it', 'PRP'), ('and', 'CC'), ('pouncing', 'VBG'), ('upon', 'IN'), ('it', 'PRP'), ('carried', 'VBD'), ('it', 'PRP'), ('up', 'RP'), ('aloft', 'RB')], [('the', 'DT'), ('frog', 'NN'), ('being', 'VBG'), ('still', 'RB'), ('fastened', 'VBN'), ('to', 'TO'), ('the', 'DT'), ('leg', 'NN'), ('of', 'IN'), ('the', 'DT'), ('mouse', 'NN'), ('was', 'VBD'), ('also', 'RB'), ('carried', 'VBN'), ('off', 'RP'), ('a', 'DT'), ('prisoner', 'NN'), ('and', 'CC'), ('was', 'VBD'), ('eaten', 'VBN'), ('by', 'IN'), ('the', 'DT'), ('hawk', 'NN')], [('harm', 'NN'), ('hatch', 'NN'), ('harm', 'NN'), ('catch', 'NN')], [('the', 'DT'), ('dog', 'NN'), ('and', 'CC'), ('the', 'DT'), ('oyster', 'NN')], [('a', 'DT'), ('dog', 'NN'), ('used', 'VBN'), ('to', 'TO'), ('eating', 'VBG'), ('eggs', 'NNS'), ('saw', 'VBD'), ('an', 'DT'), ('oyster', 'NN'), ('and', 'CC'), ('opening', 'VBG'), ('his', 'PRP$'), ('mouth', 'NN'), ('to', 'TO'), ('its', 'PRP$')]]\n"
     ]
    }
   ],
   "source": [
    "freq_per_cat = {}\n",
    "marked = [nltk.pos_tag(text) for text in tokenized]\n",
    "for sentence in marked:\n",
    "    #{NN: {word: freq}}\n",
    "    for word in sentence:\n",
    "        if word[1] in freq_per_cat:\n",
    "            if word[0] in freq_per_cat[word[1]]:\n",
    "                freq_per_cat[word[1]][word[0]] += 1\n",
    "            else:\n",
    "                freq_per_cat[word[1]][word[0]] = 1\n",
    "        else:\n",
    "            freq_per_cat[word[1]] = {word[0] : 1}\n",
    "            \n",
    "print(marked)"
   ]
  },
  {
   "cell_type": "code",
   "execution_count": 12,
   "id": "804f274c",
   "metadata": {},
   "outputs": [
    {
     "name": "stderr",
     "output_type": "stream",
     "text": [
      "[nltk_data] Downloading package averaged_perceptron_tagger to\n",
      "[nltk_data]     C:\\Users\\faust\\AppData\\Roaming\\nltk_data...\n",
      "[nltk_data]   Package averaged_perceptron_tagger is already up-to-\n",
      "[nltk_data]       date!\n"
     ]
    },
    {
     "data": {
      "text/plain": [
       "True"
      ]
     },
     "execution_count": 12,
     "metadata": {},
     "output_type": "execute_result"
    }
   ],
   "source": [
    "nltk.download('averaged_perceptron_tagger')"
   ]
  },
  {
   "cell_type": "code",
   "execution_count": 49,
   "id": "8e8ddc4b",
   "metadata": {},
   "outputs": [
    {
     "name": "stdout",
     "output_type": "stream",
     "text": [
      "['the wolf turned shepherd', 'a wolf, finding that the sheep were so afraid of him that he could not get near them, disguised himself in the dress of a shepherd, and thus attired approached the flock', 'as he came near, he found the shepherd fast asleep', 'as the sheep did not run away, he resolved to imitate the voice of the shepherd', 'in trying to do so, he only howled, and awoke the shepherd', 'as he could not run away, he was soon killed', 'those who attempt to act in disguise are apt to overdo it', 'the stag at the pool', 'a stag saw his shadow reflected in the water, and greatly admired the size of his horns, but felt angry with himself for having such weak feet', 'while he was thus contemplating himself, a lion appeared at the pool', 'the stag betook himself to flight, and kept himself with ease at a safe distance from the lion, until he entered a wood and became entangled with his horns', 'the lion quickly came up with him and caught him', 'when too late he thus reproached himself: woe is me', 'how have i deceived myself', 'these feet which would have saved me i despised, and i gloried in these antlers which have proved my destruction'] ['what is most truly valuable is often underrated', 'the fox and the mask', 'a fox entered the house of an actor, and, rummaging through all his properties, came upon a mask, an admirable imitation of a human head', 'he placed his paws on it, and said: what a beautiful head', 'yet it is of no value, as it entirely wants brains', 'a fair face is of little use without sense', 'the bear and the fox', 'a bear boasted very much of his philanthropy, saying that of all animals he was the most tender in his regard for man, for he had such respect for him, that he would not even touch his dead body', 'a fox hearing these words said with a smile to the bear: oh, that you would eat the dead and not the living', 'we should not wait till a person is dead, to give him our respect', 'the wolf and the lamb', 'a wolf, meeting with a lamb astray from the fold, resolved not to lay violent hands on him, but to find some plea, which should justify to the lamb himself his right to eat him', 'he then addressed him: sirrah, last year you grossly insulted me', 'indeed, bleated the lamb in a mournful tone of voice, i was not then born', 'then said the wolf: you feed in my pasture']\n"
     ]
    }
   ],
   "source": [
    "\n",
    "print(sentences[:15], sentences[15::])"
   ]
  },
  {
   "cell_type": "code",
   "execution_count": 14,
   "id": "37ef2b55",
   "metadata": {},
   "outputs": [
    {
     "name": "stdout",
     "output_type": "stream",
     "text": [
      "{'DT': ['the', 'a', 'the', 'the', 'a', 'the', 'the', 'the', 'the', 'the', 'the', 'those', 'the', 'the', 'a', 'the', 'the', 'a', 'the', 'the', 'a', 'the', 'a', 'the', 'these', 'these', 'the', 'the', 'a', 'the', 'an', 'a', 'an', 'a', 'a', 'no', 'a', 'the', 'the', 'a', 'all', 'the', 'a', 'these', 'a', 'the', 'the', 'the', 'a', 'the', 'the', 'a', 'a', 'the', 'some', 'the', 'the', 'a', 'the', 'no', 'the', 'the', 'no', 'the', 'both', 'the', 'every', 'the', 'a', 'the', 'the', 'the', 'a', 'an', 'the', 'the', 'the', 'the', 'a', 'the', 'no', 'some', 'a', 'the', 'all', 'this', 'a', 'the', 'a', 'a', 'a', 'the', 'a', 'the', 'a', 'the', 'the', 'the', 'a', 'the', 'a', 'the', 'the', 'the', 'a', 'the', 'the', 'the', 'the', 'the', 'the', 'the', 'those', 'the', 'the', 'the', 'a', 'an', 'an', 'a', 'the', 'the', 'the', 'the', 'the', 'the', 'the', 'the', 'the', 'a', 'the', 'the', 'the', 'the', 'the', 'a', 'the', 'the', 'the', 'a', 'the', 'the', 'the', 'a', 'an'], 'NN': ['wolf', 'wolf', 'sheep', 'dress', 'shepherd', 'flock', 'shepherd', 'sheep', 'voice', 'shepherd', 'shepherd', 'disguise', 'stag', 'pool', 'stag', 'shadow', 'water', 'size', 'lion', 'pool', 'betook', 'flight', 'ease', 'distance', 'lion', 'wood', 'lion', 'woe', 'destruction', 'fox', 'mask', 'fox', 'house', 'actor', 'mask', 'imitation', 'head', 'paws', 'head', 'value', 'face', 'use', 'sense', 'bear', 'fox', 'bear', 'philanthropy', 'tender', 'regard', 'man', 'respect', 'body', 'fox', 'smile', 'bear', 'living', 'person', 'respect', 'wolf', 'lamb', 'wolf', 'meeting', 'astray', 'fold', 'plea', 'lamb', 'right', 'year', 'lamb', 'tone', 'voice', 'i', 'wolf', 'pasture', 'sir', 'lamb', 'i', 'grass', 'wolf', 'well', 'lamb', 'i', 'water', 'mother', 'milk', 'food', 'drink', 'wolf', 'i', 'tyrant', 'pretext', 'tyranny', 'innocent', 'justice', 'oppressor', 'eyed', 'doe', 'blind', 'eye', 'edge', 'sea', 'safety', 'eye', 'land', 'approach', 'hunter', 'hound', 'eye', 'sea', 'anticipation', 'danger', 'saw', 'aim', 'creature', 'i', 'precaution', 'land', 'seashore', 'i', 'safety', 'danger', 'source', 'dog', 'cock', 'fox', 'dog', 'cock', 'shelter', 'night', 'wood', 'cock', 'branch', 'dog', 'bed', 'foot', 'tree', 'morning', 'cock', 'fox', 'sound', 'breakfast', 'acquaintance', 'owner', 'voice', 'day', 'cock', 'sir', 'favor', 'round', 'porter', 'door', 'fox', 'tree', 'dog', 'mouse', 'frog', 'hawk', 'mouse', 'chance', 'acquaintance', 'frog', 'day', 'intent', 'mischief', 'foot', 'mouse', 'frog', 'friend', 'pool', 'brink', 'mouse', 'frog', 'water', 'action', 'mouse', 'water', 'body', 'surface', 'foot', 'frog', 'hawk', 'frog', 'leg', 'mouse', 'prisoner', 'hawk', 'harm', 'hatch', 'harm', 'catch', 'dog', 'oyster', 'dog', 'oyster', 'mouth'], 'VBD': ['turned', 'were', 'disguised', 'approached', 'came', 'found', 'did', 'resolved', 'howled', 'awoke', 'was', 'saw', 'reflected', 'admired', 'felt', 'was', 'appeared', 'kept', 'entered', 'became', 'came', 'caught', 'reproached', 'entered', 'came', 'placed', 'said', 'was', 'had', 'said', 'resolved', 'addressed', 'insulted', 'was', 'said', 'replied', 'said', 'exclaimed', 'seized', 'won', 'was', 'turned', 'entertained', 'wounded', 'said', 'o', 'had', 'took', 'perched', 'found', 'dawned', 'crowed', 'came', 'stood', 'desired', 'said', 'said', 'sprang', 'caught', 'tore', 'formed', 'led', 'lived', 'reached', 'dragged', 'enjoyed', 'had', 'was', 'floated', 'observed', 'carried', 'was', 'was', 'saw'], 'JJ': ['shepherd', 'afraid', 'asleep', 'apt', 'angry', 'such', 'weak', 'stag', 'safe', 'i', 'valuable', 'underrated', 'admirable', 'human', 'beautiful', 'fair', 'little', 'much', 'such', 'dead', 'dead', 'dead', 'lamb', 'violent', 'last', 'mournful', 'good', 'drank', 's', 'remain', 'supperless', 'useless', 'unjust', 'doe', 'injured', 'successful', 'wretched', 'such', 'perilous', 'suspected', 'thick', 'high', 'usual', 'own', 'unlucky', 'intimate', 'frog', 'own', 'meritorious', 'unhappy', 'dead'], 'VBG': ['finding', 'trying', 'having', 'contemplating', 'rummaging', 'saying', 'hearing', 'saying', 'reasoning', 'sailing', 'taking', 'traveling', 'hearing', 'wishing', 'saying', 'approaching', 'jumping', 'croaking', 'pouncing', 'being', 'eating', 'opening'], 'IN': ['that', 'of', 'that', 'near', 'in', 'of', 'as', 'near', 'as', 'of', 'in', 'as', 'in', 'at', 'in', 'of', 'with', 'for', 'while', 'at', 'with', 'at', 'from', 'until', 'with', 'with', 'in', 'of', 'through', 'upon', 'of', 'on', 'of', 'as', 'of', 'without', 'of', 'that', 'of', 'in', 'for', 'for', 'for', 'that', 'with', 'oh', 'that', 'with', 'from', 'on', 'in', 'of', 'in', 'of', 'for', 'as', 'on', 'though', 'of', 'for', 'for', 'by', 'of', 'as', 'near', 'of', 'as', 'towards', 'that', 'of', 'towards', 'from', 'of', 'by', 'that', 'against', 'after', 'for', 'from', 'at', 'in', 'on', 'while', 'at', 'of', 'as', 'on', 'under', 'of', 'of', 'if', 'like', 'with', 'that', 'in', 'on', 'in', 'by', 'by', 'with', 'on', 'bound', 'of', 'toward', 'in', 'until', 'in', 'in', 'with', 'about', 'as', 'if', 'with', 'about', 'on', 'of', 'upon', 'of', 'by'], 'RB': ['so', 'not', 'thus', 'fast', 'not', 'away', 'so', 'only', 'not', 'away', 'soon', 'greatly', 'thus', 'quickly', 'too', 'late', 'thus', 'truly', 'often', 'yet', 'entirely', 'very', 'not', 'even', 'not', 'not', 'not', 'then', 'grossly', 'indeed', 'not', 'then', 'then', 'not', 'yet', 'again', 'never', 'yet', 'yet', 'well', 't', 'even', 'always', 'possibly', 'mortally', 'so', 'much', 'sometimes', 'together', 'very', 'loudly', 'earnestly', 'so', 'very', 'much', 'quickly', 'often', 'tightly', 'thus', 'together', 'very', 'suddenly', 'amazingly', 'soon', 'aloft', 'still', 'also'], 'PRP': ['him', 'he', 'them', 'himself', 'he', 'he', 'he', 'he', 'he', 'he', 'it', 'himself', 'he', 'himself', 'himself', 'himself', 'he', 'him', 'him', 'he', 'himself', 'me', 'myself', 'me', 'he', 'it', 'it', 'it', 'he', 'he', 'him', 'he', 'you', 'we', 'him', 'him', 'himself', 'him', 'he', 'him', 'you', 'me', 'you', 'you', 'me', 'him', 'him', 'you', 'it', 'she', 'she', 'her', 'she', 'she', 'her', 'she', 'himself', 'him', 'he', 'you', 'me', 'he', 'you', 'me', 'he', 'you', 'him', 'him', 'he', 'he', 'he', 'him', 'he', 'it', 'it', 'it'], 'MD': ['could', 'could', 'would', 'would', 'would', 'should', 'should', 'will', 'could', 'might', 'will', 'i', 'should', 'may'], 'VB': ['get', 'run', 'imitate', 'do', 'run', 'act', 'overdo', 'have', 'i', 'touch', 'eat', 'wait', 'till', 'give', 'lay', 'find', 'justify', 'eat', 'sirrah', 'born', 'ate', 'find', 'try', 'get', 'be', 'graze', 'secure', 'perceive', 'take', 'find', 'make', 'make', 'sweet', 'admit', 'spend', 'do', 'go', 'wake', 'open', 'let', 'entrap', 'swam'], 'CC': ['and', 'and', 'and', 'but', 'and', 'and', 'and', 'and', 'and', 'and', 'and', 'and', 'and', 'and', 'but', 'and', 'and', 'and', 'or', 'and', 'and', 'and', 'and', 'and', 'and', 'and', 'and', 'and', 'and', 'and', 'and', 'and', 'and', 'and', 'and', 'and', 'and'], 'VBN': ['attired', 'killed', 'entangled', 'i', 'deceived', 'saved', 'despised', 'gloried', 'proved', 'boasted', 'bleated', 'tasted', 'accustomed', 'come', 'caught', 'joined', 'done', 'suffocated', 'tied', 'fastened', 'carried', 'eaten', 'used'], 'TO': ['to', 'to', 'to', 'to', 'to', 'to', 'to', 'to', 'to', 'to', 'to', 'to', 'to', 'to', 'to', 'to', 'to', 'to', 'to', 'to', 'to', 'to', 'to', 'to', 'to', 'to', 'to', 'to', 'to', 'to', 'to'], 'WP': ['who', 'what', 'what', 'who'], 'VBP': ['attempt', 'are', 'have', 'have', 'feed', 'have', 'drink', 'refute', 'am', 'try', 'are'], 'PRP$': ['his', 'his', 'his', 'my', 'his', 'his', 'his', 'his', 'his', 'our', 'his', 'my', 'my', 'my', 'my', 'his', 'her', 'her', 'my', 'their', 'his', 'his', 'his', 'his', 'its'], 'NNS': ['horns', 'feet', 'horns', 'feet', 'antlers', 'properties', 'brains', 'animals', 'words', 'hands', 'imputations', 'boatmen', 'branches', 'pieces', 'others', 'schemes', 'eggs'], 'RP': ['up', 'up', 'up', 'out', 'up', 'off'], 'WRB': ['when', 'how', 'when', 'when', 'how', 'when'], 'VBZ': ['is', 'is', 'is', 'is', 'wants', 'is', 'is', 'is', 'is', 'intends', 'comes', 'is'], 'WDT': ['which', 'which', 'which', 'which', 'which', 'which', 'that', 'which'], 'RBS': ['most', 'most', 'least'], 'PDT': ['all'], 'CD': ['one', 'one', 'one'], 'JJR': ['greater'], 'RBR': ['more']}\n"
     ]
    }
   ],
   "source": [
    "vocab = {}\n",
    "\n",
    "for s in marked:\n",
    "    for word in s:\n",
    "        if word[1] not in vocab:\n",
    "            vocab[word[1]] = [word[0]]\n",
    "        else:\n",
    "            vocab[word[1]].append(word[0])\n",
    "print(vocab)"
   ]
  },
  {
   "cell_type": "code",
   "execution_count": 31,
   "id": "acee22a7",
   "metadata": {},
   "outputs": [],
   "source": [
    "from nltk import CFG\n",
    "from nltk.grammar import FeatureGrammar\n",
    "from nltk.parse import RecursiveDescentParser, FeatureEarleyChartParser\n",
    "\n",
    "f = open(\"grmmr2.txt\", 'r')\n",
    "grammar = ''\n",
    "for line in f:\n",
    "    grammar += line\n",
    "\n",
    "cfg_1 = CFG.fromstring(grammar)\n"
   ]
  },
  {
   "cell_type": "code",
   "execution_count": 30,
   "id": "a87098f3",
   "metadata": {},
   "outputs": [],
   "source": [
    "import nltk"
   ]
  },
  {
   "cell_type": "code",
   "execution_count": 32,
   "id": "b26cab29",
   "metadata": {},
   "outputs": [
    {
     "ename": "ValueError",
     "evalue": "Grammar does not cover some of the input words: \"'how', 'have', 'deceived', 'myself'\".",
     "output_type": "error",
     "traceback": [
      "\u001b[1;31m---------------------------------------------------------------------------\u001b[0m",
      "\u001b[1;31mValueError\u001b[0m                                Traceback (most recent call last)",
      "\u001b[1;32m<ipython-input-32-fc901b043656>\u001b[0m in \u001b[0;36m<module>\u001b[1;34m\u001b[0m\n\u001b[0;32m      1\u001b[0m \u001b[0mparser\u001b[0m \u001b[1;33m=\u001b[0m \u001b[0mnltk\u001b[0m\u001b[1;33m.\u001b[0m\u001b[0mparse\u001b[0m\u001b[1;33m.\u001b[0m\u001b[0mearleychart\u001b[0m\u001b[1;33m.\u001b[0m\u001b[0mChartParser\u001b[0m\u001b[1;33m(\u001b[0m\u001b[0mcfg_1\u001b[0m\u001b[1;33m)\u001b[0m\u001b[1;33m\u001b[0m\u001b[1;33m\u001b[0m\u001b[0m\n\u001b[0;32m      2\u001b[0m \u001b[0msent\u001b[0m \u001b[1;33m=\u001b[0m \u001b[1;34m'how have i deceived myself'\u001b[0m\u001b[1;33m.\u001b[0m\u001b[0msplit\u001b[0m\u001b[1;33m(\u001b[0m\u001b[1;33m)\u001b[0m\u001b[1;33m\u001b[0m\u001b[1;33m\u001b[0m\u001b[0m\n\u001b[1;32m----> 3\u001b[1;33m \u001b[0mchart\u001b[0m \u001b[1;33m=\u001b[0m \u001b[0mparser\u001b[0m\u001b[1;33m.\u001b[0m\u001b[0mparse\u001b[0m\u001b[1;33m(\u001b[0m\u001b[0msent\u001b[0m\u001b[1;33m)\u001b[0m\u001b[1;33m\u001b[0m\u001b[1;33m\u001b[0m\u001b[0m\n\u001b[0m\u001b[0;32m      4\u001b[0m \u001b[1;33m\u001b[0m\u001b[0m\n",
      "\u001b[1;32m~\\anaconda3\\lib\\site-packages\\nltk\\parse\\chart.py\u001b[0m in \u001b[0;36mparse\u001b[1;34m(self, tokens, tree_class)\u001b[0m\n\u001b[0;32m   1482\u001b[0m \u001b[1;33m\u001b[0m\u001b[0m\n\u001b[0;32m   1483\u001b[0m     \u001b[1;32mdef\u001b[0m \u001b[0mparse\u001b[0m\u001b[1;33m(\u001b[0m\u001b[0mself\u001b[0m\u001b[1;33m,\u001b[0m \u001b[0mtokens\u001b[0m\u001b[1;33m,\u001b[0m \u001b[0mtree_class\u001b[0m\u001b[1;33m=\u001b[0m\u001b[0mTree\u001b[0m\u001b[1;33m)\u001b[0m\u001b[1;33m:\u001b[0m\u001b[1;33m\u001b[0m\u001b[1;33m\u001b[0m\u001b[0m\n\u001b[1;32m-> 1484\u001b[1;33m         \u001b[0mchart\u001b[0m \u001b[1;33m=\u001b[0m \u001b[0mself\u001b[0m\u001b[1;33m.\u001b[0m\u001b[0mchart_parse\u001b[0m\u001b[1;33m(\u001b[0m\u001b[0mtokens\u001b[0m\u001b[1;33m)\u001b[0m\u001b[1;33m\u001b[0m\u001b[1;33m\u001b[0m\u001b[0m\n\u001b[0m\u001b[0;32m   1485\u001b[0m         \u001b[1;32mreturn\u001b[0m \u001b[0miter\u001b[0m\u001b[1;33m(\u001b[0m\u001b[0mchart\u001b[0m\u001b[1;33m.\u001b[0m\u001b[0mparses\u001b[0m\u001b[1;33m(\u001b[0m\u001b[0mself\u001b[0m\u001b[1;33m.\u001b[0m\u001b[0m_grammar\u001b[0m\u001b[1;33m.\u001b[0m\u001b[0mstart\u001b[0m\u001b[1;33m(\u001b[0m\u001b[1;33m)\u001b[0m\u001b[1;33m,\u001b[0m \u001b[0mtree_class\u001b[0m\u001b[1;33m=\u001b[0m\u001b[0mtree_class\u001b[0m\u001b[1;33m)\u001b[0m\u001b[1;33m)\u001b[0m\u001b[1;33m\u001b[0m\u001b[1;33m\u001b[0m\u001b[0m\n\u001b[0;32m   1486\u001b[0m \u001b[1;33m\u001b[0m\u001b[0m\n",
      "\u001b[1;32m~\\anaconda3\\lib\\site-packages\\nltk\\parse\\chart.py\u001b[0m in \u001b[0;36mchart_parse\u001b[1;34m(self, tokens, trace)\u001b[0m\n\u001b[0;32m   1440\u001b[0m \u001b[1;33m\u001b[0m\u001b[0m\n\u001b[0;32m   1441\u001b[0m         \u001b[0mtokens\u001b[0m \u001b[1;33m=\u001b[0m \u001b[0mlist\u001b[0m\u001b[1;33m(\u001b[0m\u001b[0mtokens\u001b[0m\u001b[1;33m)\u001b[0m\u001b[1;33m\u001b[0m\u001b[1;33m\u001b[0m\u001b[0m\n\u001b[1;32m-> 1442\u001b[1;33m         \u001b[0mself\u001b[0m\u001b[1;33m.\u001b[0m\u001b[0m_grammar\u001b[0m\u001b[1;33m.\u001b[0m\u001b[0mcheck_coverage\u001b[0m\u001b[1;33m(\u001b[0m\u001b[0mtokens\u001b[0m\u001b[1;33m)\u001b[0m\u001b[1;33m\u001b[0m\u001b[1;33m\u001b[0m\u001b[0m\n\u001b[0m\u001b[0;32m   1443\u001b[0m         \u001b[0mchart\u001b[0m \u001b[1;33m=\u001b[0m \u001b[0mself\u001b[0m\u001b[1;33m.\u001b[0m\u001b[0m_chart_class\u001b[0m\u001b[1;33m(\u001b[0m\u001b[0mtokens\u001b[0m\u001b[1;33m)\u001b[0m\u001b[1;33m\u001b[0m\u001b[1;33m\u001b[0m\u001b[0m\n\u001b[0;32m   1444\u001b[0m         \u001b[0mgrammar\u001b[0m \u001b[1;33m=\u001b[0m \u001b[0mself\u001b[0m\u001b[1;33m.\u001b[0m\u001b[0m_grammar\u001b[0m\u001b[1;33m\u001b[0m\u001b[1;33m\u001b[0m\u001b[0m\n",
      "\u001b[1;32m~\\anaconda3\\lib\\site-packages\\nltk\\grammar.py\u001b[0m in \u001b[0;36mcheck_coverage\u001b[1;34m(self, tokens)\u001b[0m\n\u001b[0;32m    673\u001b[0m         \u001b[1;32mif\u001b[0m \u001b[0mmissing\u001b[0m\u001b[1;33m:\u001b[0m\u001b[1;33m\u001b[0m\u001b[1;33m\u001b[0m\u001b[0m\n\u001b[0;32m    674\u001b[0m             \u001b[0mmissing\u001b[0m \u001b[1;33m=\u001b[0m \u001b[1;34m\", \"\u001b[0m\u001b[1;33m.\u001b[0m\u001b[0mjoin\u001b[0m\u001b[1;33m(\u001b[0m\u001b[1;34m\"%r\"\u001b[0m \u001b[1;33m%\u001b[0m \u001b[1;33m(\u001b[0m\u001b[0mw\u001b[0m\u001b[1;33m,\u001b[0m\u001b[1;33m)\u001b[0m \u001b[1;32mfor\u001b[0m \u001b[0mw\u001b[0m \u001b[1;32min\u001b[0m \u001b[0mmissing\u001b[0m\u001b[1;33m)\u001b[0m\u001b[1;33m\u001b[0m\u001b[1;33m\u001b[0m\u001b[0m\n\u001b[1;32m--> 675\u001b[1;33m             raise ValueError(\n\u001b[0m\u001b[0;32m    676\u001b[0m                 \u001b[1;34m\"Grammar does not cover some of the \"\u001b[0m \u001b[1;34m\"input words: %r.\"\u001b[0m \u001b[1;33m%\u001b[0m \u001b[0mmissing\u001b[0m\u001b[1;33m\u001b[0m\u001b[1;33m\u001b[0m\u001b[0m\n\u001b[0;32m    677\u001b[0m             )\n",
      "\u001b[1;31mValueError\u001b[0m: Grammar does not cover some of the input words: \"'how', 'have', 'deceived', 'myself'\"."
     ]
    }
   ],
   "source": [
    "parser = nltk.parse.earleychart.ChartParser(cfg_1)\n",
    "sent = 'how have i deceived myself'.split()\n",
    "chart = parser.parse(sent)\n",
    "    "
   ]
  },
  {
   "cell_type": "code",
   "execution_count": 16,
   "id": "4a2fab93",
   "metadata": {},
   "outputs": [],
   "source": []
  },
  {
   "cell_type": "code",
   "execution_count": null,
   "id": "f58320dc",
   "metadata": {},
   "outputs": [],
   "source": [
    "x = 2\n",
    "if (x := )"
   ]
  }
 ],
 "metadata": {
  "kernelspec": {
   "display_name": "Python 3",
   "language": "python",
   "name": "python3"
  },
  "language_info": {
   "codemirror_mode": {
    "name": "ipython",
    "version": 3
   },
   "file_extension": ".py",
   "mimetype": "text/x-python",
   "name": "python",
   "nbconvert_exporter": "python",
   "pygments_lexer": "ipython3",
   "version": "3.8.8"
  }
 },
 "nbformat": 4,
 "nbformat_minor": 5
}
