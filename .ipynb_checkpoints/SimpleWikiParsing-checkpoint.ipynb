{
 "cells": [
  {
   "cell_type": "code",
   "execution_count": 24,
   "id": "07bbf26f",
   "metadata": {},
   "outputs": [],
   "source": [
    "\n",
    "\n",
    "def text_to_tokens(txt):\n",
    "    text = ''\n",
    "    for line in txt:\n",
    "\n",
    "        text += line.replace('\\n',' ').replace('\\\"', '').replace('!','.').replace('?','.').replace(',','')\n",
    "    sentences = text.split('.')\n",
    "    sentences = [x.lower().strip(string.whitespace) for x in sentences]\n",
    "    tokenized = [re.findall(r'[\\w]+',sentence) for sentence in sentences]\n",
    "    tokens = [item for sublist in tokenized for item in sublist]\n",
    "    return (sentences, tokenized, tokens)\n",
    "\n",
    "\n",
    "def text_data(text):\n",
    "    \n",
    "    tk = LegalitySyllableTokenizer(words.words())\n",
    "    sentence_count = len(text)\n",
    "    word_count = sum([len(s) for s in text])\n",
    "    syllable_count = sum([sum([len(tk.tokenize(w)) for w in s]) for s in text])\n",
    "    \n",
    "    \n",
    "    return (sentence_count, word_count, syllable_count)\n",
    "\n",
    "def Flesch_Kincaid(sent, words, sylab):\n",
    "    return 0.39 * (words/sent) + 11.8 * (sylab/words) - 15.59\n",
    "\n",
    "def Dale_Chall(sent, words):\n",
    "    \n",
    "    easywords = set()\n",
    "    \n",
    "    with open('DaleChallEasyWordList.txt', 'r') as f:\n",
    "        for w in f:\n",
    "            easywords.add(w.strip(string.whitespace))\n",
    "    \n",
    "    hard_words = 0\n",
    "    total_words = 0\n",
    "    \n",
    "    for s in words:\n",
    "        for w in s:\n",
    "            if w not in easywords:\n",
    "                hard_words += 1\n",
    "            total_words += 1\n",
    "    \n",
    "    return 0.1579 * ((hard_words*100)/ total_words) + 0.0469 * (total_words/sent)\n",
    "\n",
    "#sent, tokens, token = text_to_tokens()\n",
    "#sent_count, word_count, sylab_count = text_data(tokens)\n",
    "\n",
    "#Dale_Chall(sent_count, tokens)"
   ]
  },
  {
   "cell_type": "code",
   "execution_count": 26,
   "id": "912185b3",
   "metadata": {},
   "outputs": [],
   "source": [
    "import string\n",
    "import re\n",
    "from nltk import tokenize, LegalitySyllableTokenizer\n",
    "from nltk.corpus import words\n",
    "import wikipediaapi"
   ]
  },
  {
   "cell_type": "code",
   "execution_count": 9,
   "id": "32b77470",
   "metadata": {},
   "outputs": [],
   "source": [
    "# Load english wikipedia\n",
    "wiki_wiki = wikipediaapi.Wikipedia('en')\n",
    "\n",
    "# Find page on AI\n",
    "page_py = wiki_wiki.page('Artificial_intelligence')\n",
    "AItxt = page_py.text\n",
    "\n",
    "# Find page on linguistics\n",
    "page_py = wiki_wiki.page('Linguistics')\n",
    "Lingtxt = page_py.text\n",
    "\n",
    "# Save sentences\n",
    "S = AItxt.split('\\n')\n",
    "i = S.index('See also')\n",
    "AIsentences = S[:i]\n",
    "S = Lingtxt.split('\\n')\n",
    "i = S.index('See also')\n",
    "Lingsentences = S[:i]"
   ]
  },
  {
   "cell_type": "code",
   "execution_count": 10,
   "id": "4ce3e0b5",
   "metadata": {},
   "outputs": [],
   "source": []
  },
  {
   "cell_type": "code",
   "execution_count": 22,
   "id": "907f1636",
   "metadata": {},
   "outputs": [],
   "source": [
    "# Load Simple english Wikipedia\n",
    "wiki_wiki = wikipediaapi.Wikipedia('simple')\n",
    "# Find page on linguistics\n",
    "page_py = wiki_wiki.page('Linguistics')\n",
    "LingSimptxt = page_py.text\n",
    "# Find page on AI\n",
    "page_py = wiki_wiki.page('Artificial_intelligence')\n",
    "AISimptxt = page_py.text\n",
    "S = AISimptxt.split('\\n')\n",
    "i = S.index('Related pages')\n",
    "AISimpsentences = S[:i]\n",
    "S = LingSimptxt.split('\\n')\n",
    "i = S.index('== References ==')\n",
    "LingSimpsentences = S[:i]"
   ]
  },
  {
   "cell_type": "code",
   "execution_count": 27,
   "id": "eabb8d00",
   "metadata": {},
   "outputs": [],
   "source": [
    "# Simplify and tokenize data\n",
    "aisimpsent, aisimptokens, aisimptoken = text_to_tokens(AISimpsentences)\n",
    "lingsimpsent, lingsimptokens, lingsimptoken = text_to_tokens(LingSimpsentences)\n",
    "aisent, aitokens, aitoken = text_to_tokens(AIsentences)\n",
    "lingsent, lingtokens, lingtoken = text_to_tokens(Lingsentences)"
   ]
  },
  {
   "cell_type": "code",
   "execution_count": 73,
   "id": "97d208c4",
   "metadata": {
    "scrolled": true
   },
   "outputs": [
    {
     "name": "stdout",
     "output_type": "stream",
     "text": [
      "29\n"
     ]
    }
   ],
   "source": [
    "import nltk\n",
    "\n",
    "grmmr = ''\n",
    "\n",
    "with open('tstgrmmr.txt') as f:\n",
    "    for line in f:\n",
    "        grmmr += line\n",
    "        \n",
    "grmmr = nltk.CFG.fromstring(grmmr)\n",
    "\n",
    "parser = nltk.parse.BottomUpChartParser(grmmr)\n",
    "\n",
    "parsable = ['linguistics is the study of language',\n",
    "           'people who study language are called linguists',\n",
    "            'many linguists compare languages to find similar properties',\n",
    "            'there are many ways to use linguistics every day',\n",
    "            'for many centuries most linguistic work was philology',\n",
    "            'literary theorists study the use of language in literature',\n",
    "            'discourse analysis is the study of entire conversations or texts',\n",
    "            'some linguists are applied linguists and use linguistics to do things',\n",
    "            'one part of historical linguistics is etymology the study of the history of words',\n",
    "            'the word etymology is first used to talk about the history behind a words meaning',\n",
    "            'semiotics for example is the general study of signs and symbols both within language and without',\n",
    "            'another part of linguistics is involved in understanding how languages are used in society or in the world',\n",
    "            'the part of linguistics that aims to find out how language works in the mind is known as psycholinguistics',\n",
    "            'John Mccarthy came up with the name artificial intelligence in 1955',\n",
    "            'in general use the term artificial intelligence means a programme which mimics human cognition',\n",
    "            'many approaches and tools have been tried',\n",
    "            'they work on their own without being encoded with commands',\n",
    "            'it is also a field of study which tries to make computers smart',\n",
    "            'humanized ai shows characteristics of all types of competencies',\n",
    "            'ai research really started with a conference at Dartmouth College in 1956',\n",
    "            'unfortunately researchers really underestimated just how hard some problems were',\n",
    "            'searching databases and doing calculations are things computers do better than people',\n",
    "            'it was a monthlong brainstorming session attended by many people with interests in ai',\n",
    "            'sociolinguistics studies how language is used in society',\n",
    "            'historical linguistics studies how languages change over time and how languages were in the past',\n",
    "            'forensic linguistics is used in crime investigations and computational linguistics is used to help make computers understand languages',\n",
    "            'linguists who study how languages are structured and how they work are said to study theoretical linguistics',\n",
    "            'the study of language began in india with panini the 5th century bc grammarian who wrote about the 3959 rules of sanskrit grammar',\n",
    "            'plato was the first western philosopher to write about semantics',\n",
    "            'some people also consider ai a danger to humanity if it continues to progress at its current pace'\n",
    "           ]\n",
    "\n",
    "print(len(parsable))"
   ]
  },
  {
   "cell_type": "code",
   "execution_count": 71,
   "id": "b96d339a",
   "metadata": {},
   "outputs": [],
   "source": [
    "S= 'some people also consider ai a danger to humanity if it continues to progress at its current pace'.split()\n",
    "words = set()\n",
    "with open('tstgrmmr.txt', 'r') as f:\n",
    "    for line in f:\n",
    "        if re.findall('(\\'.*\\')', line):\n",
    "            words.add(re.findall('(\\'.*\\')', line)[0].strip('\\''))\n",
    "            \n",
    "with open('tstgrmmr.txt', 'a') as f:\n",
    "    for w in S:\n",
    "        if w not in words:\n",
    "            f.write(f' -> \\'{w}\\'\\n')\n",
    "f.close()"
   ]
  },
  {
   "cell_type": "code",
   "execution_count": 75,
   "id": "9705e997",
   "metadata": {},
   "outputs": [],
   "source": [
    "LingSimpsentences.sort(key = lambda x: len(x))"
   ]
  },
  {
   "cell_type": "code",
   "execution_count": 81,
   "id": "c3aba24b",
   "metadata": {},
   "outputs": [
    {
     "data": {
      "text/plain": [
       "['',\n",
       " 'e',\n",
       " 'the u',\n",
       " 'many approaches and tools have been tried',\n",
       " 'in 2011 ibm watson beat the top two jeopardy',\n",
       " 'they work on their own without being encoded with commands',\n",
       " 'it is also a field of study which tries to make computers smart',\n",
       " 's and british governments wanted to fund more productive projects',\n",
       " 'humanized ai shows characteristics of all types of competencies (i',\n",
       " 'john mccarthy came up with the name artificial intelligence in 1955',\n",
       " 'historyai research really started with a conference at dartmouth college in 1956',\n",
       " 'unfortunately researchers really underestimated just how hard some problems were',\n",
       " 'funding for ai research was cut starting an ai winter where little research was done',\n",
       " 'searching databases and doing calculations are things computers do better than people',\n",
       " 'it was a month-long brainstorming session attended by many people with interests in ai',\n",
       " 'in practice however most applications have picked on problems which computers can do well',\n",
       " 'the tools they had used still did not give computers things like emotions or common sense',\n",
       " 'this was possible because of faster computers and focusing on solving more specific problems',\n",
       " 'ai revived again in the 90s and early 2000s with its use in data mining and medical diagnosis',\n",
       " 'in general use the term artificial intelligence means a programme which mimics human cognition',\n",
       " 'in 1997 deep blue became the first computer program to beat chess world champion garry kasparov',\n",
       " 'artificial intelligence (ai) is the ability of a computer program or a machine to think and learn',\n",
       " 'some people also consider ai a danger to humanity if it continues to progress at its current pace',\n",
       " 'on the other hand perceiving its environment in any real sense is way beyond present-day computing',\n",
       " 'researchers are also trying to create creative and emotional ai which can possibly empathize or create art',\n",
       " 'faster computers advances in deep learning and access to more data have made ai popular throughout the world',\n",
       " 'an extreme goal of ai research is to create computer programs that can learn solve problems and think logically',\n",
       " 'the department of defense started giving a lot of money to ai research and labs were created all over the world',\n",
       " \"players brad rutter and ken jennings and in 2016 google's alphago beat top go player lee sedol 4 out of 5 times\",\n",
       " 'cognitive emotional and social intelligence) able to be self-conscious and self-aware in interactions with others',\n",
       " 'ai involves many different fields like computer science mathematics linguistics psychology neuroscience and philosophy',\n",
       " 'at the conference they wrote programs that were amazing at the time beating people at checkers or solving word problems',\n",
       " 'as machines become increasingly capable mental faculties once thought to require intelligence are removed from the definition',\n",
       " 'eventually researchers hope to create a general artificial intelligence which can solve many problems instead of focusing on just one',\n",
       " 'for example optical character recognition is no longer perceived as an example of artificial intelligence: it is just a routine technology',\n",
       " 'at least some of the things we associate with other minds such as learning and problem solving can be done by computers though not in the same way as we do',\n",
       " 'mathematician james lighthill wrote a report on ai saying that in no part of the field have discoveries made so far produced the major impact that was then promised',\n",
       " 'an ideal (perfect) intelligent machine is a flexible agent which perceives its environment and takes actions to maximize its chance of success at some goal or objective',\n",
       " 'human-inspired ai has elements from cognitive as well as emotional intelligence understanding in addition to cognitive elements also human emotions considering them in their decision making',\n",
       " 'at present we use the term ai for successfully understanding human speech competing at a high level in strategic game systems (such as  chess and go) self-driving cars and interpreting complex data',\n",
       " 'analytical ai has only characteristics consistent with cognitive intelligence generating cognitive representation of the world and using learning based on past experience to inform future decisions',\n",
       " 'borrowing from the management literature kaplan and haenlein classify artificial intelligence into three different types of ai systems: analytical human-inspired and humanized artificial intelligence',\n",
       " 'andreas kaplan and michael haenlein define ai as a system’s ability to correctly interpret external data to learn from such data and to use those learnings to achieve specific goals and tasks through flexible adaptation']"
      ]
     },
     "execution_count": 81,
     "metadata": {},
     "output_type": "execute_result"
    }
   ],
   "source": [
    "aisimpsent"
   ]
  },
  {
   "cell_type": "code",
   "execution_count": null,
   "id": "6256a8cb",
   "metadata": {},
   "outputs": [],
   "source": []
  }
 ],
 "metadata": {
  "kernelspec": {
   "display_name": "Python 3",
   "language": "python",
   "name": "python3"
  },
  "language_info": {
   "codemirror_mode": {
    "name": "ipython",
    "version": 3
   },
   "file_extension": ".py",
   "mimetype": "text/x-python",
   "name": "python",
   "nbconvert_exporter": "python",
   "pygments_lexer": "ipython3",
   "version": "3.8.8"
  }
 },
 "nbformat": 4,
 "nbformat_minor": 5
}
