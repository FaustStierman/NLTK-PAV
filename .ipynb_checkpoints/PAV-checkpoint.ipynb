{
 "cells": [
  {
   "cell_type": "code",
   "execution_count": 2,
   "id": "97aea44c",
   "metadata": {},
   "outputs": [],
   "source": [
    "import nltk, re, pprint\n",
    "from nltk import word_tokenize\n",
    "import re\n",
    "import string"
   ]
  },
  {
   "cell_type": "code",
   "execution_count": 42,
   "id": "f8e8f24b",
   "metadata": {},
   "outputs": [],
   "source": [
    "file = open('aesop.txt')\n",
    "\n",
    "text = ''\n",
    "\n",
    "for line in file:\n",
    "    if line != \"[Illustration]\\n\":\n",
    "        text += line.replace('\\n',' ').replace('\\\"', '').replace('!','.').replace('?','.')\n",
    "sentences = text.split('.')\n",
    "sentences = [x.lower().strip(string.whitespace) for x in sentences]\n",
    "tokenized = [re.findall(r'[\\w]+',sentence) for sentence in sentences]\n",
    "\n",
    "\n",
    "\n"
   ]
  },
  {
   "cell_type": "code",
   "execution_count": 46,
   "id": "d7ca4fc5",
   "metadata": {},
   "outputs": [
    {
     "name": "stdout",
     "output_type": "stream",
     "text": [
      "Number of words:  31446\n",
      "Number of sentences:  1778\n",
      "['disguised', 'attired', 'howled', 'awoke', 'overdo', 'reflected', 'admired', 'contemplating', 'deceived', 'despised', 'gloried', 'proved', 'valuable', 'underrated', 'rummaging', 'properties', 'admirable', 'human', 'philanthropy', 'astray', 'plea', 'justify', 'sirrah', 'grossly', 'insulted', 'bleated', 'mournful', 'tasted', 'imputations', 'pretext', 'tyranny', 'innocent', 'reasoning', 'oppressor', 'intends', 'unjust', 'eyed', 'graze', 'edge', 'perceive', 'entertained', 'anticipation', 'boatmen', 'successful', 'precaution', 'seashore', 'perilous', 'suspected', 'dawned', 'usual', 'breakfast', 'porter', 'entrap', 'unlucky', 'intent', 'tightly', 'enjoyed', 'amazingly', 'croaking', 'meritorious', 'observed', 'hatch', 'opening', 'swallowed', 'utmost', 'relish', 'suffering', 'stomach', 'torment', 'folly', 'repents', 'haunch', 'mutton', 'clamor', 'raise', 'condemn', 'exceeding', 'timidity', 'perpetual', 'banks', 'helter', 'skelter', 'disappearance', 'timorous', 'induced', 'agonies', 'stopping', 'fiercer', 'renewal', 'crows', 'certainly', 'happen', 'disabled', 'suspended', 'quick', 'grew', 'exhibition', 'orders', 'merit', 'marks', 'disgrace', 'mannered', 'achieve', 'notoriety', 'fame', 'quack', 'learned', 'diseases', 'gait', 'wrinkled', 'believed', 'pledge', 'assuring', 'pit', 'secured', 'clutched', 'traitors', 'treachery', 'maimed', 'draught', 'doubtless', 'hypocritical', 'jewel', 'scratching', 'precious', 'estate', 'barleycorn', 'jewels', 'world', 'earthenware', 'earthen', 'slightly', 'equals', 'consist', 'scratch', 'quarrels', 'repeat', 'sounded', 'nostrils', 'crush', 'punished', 'triumph', 'cobweb', 'wage', 'hugest', 'cleaning', 'cockcrow', 'aggrieved', 'roused', 'unlawful', 'trials', 'increase', 'dying', 'increased', 'boldness', 'familiar', 'conversation', 'softens', 'prejudices', 'partake', 'bare', 'stalks', 'roots', 'row', 'arrival', 'beans', 'figs', 'raisins', 'cheese', 'cheer', 'satisfaction', 'squeezing', 'begun', 'repast', 'cupboard', 'sailor', 'amuse', 'shipboard', 'sailed', 'greece', 'tempest', 'crew', 'contending', 'befriend', 'athenian', 'piræus', 'indignant', 'dipped', 'tame', 'purchased', 'reared', 'troubled', 'refrain', 'strangers', 'gently', 'sting', 'soft', 'silk', 'captors', 'arms', 'stirs', 'incites', 'touched', 'procedure', 'resolving', 'outdone', 'generosity', 'deliverer', 'fired', 'gracious', 'princely', 'virgin', 'giddy', 'minding', 'spouse', 'unequal', 'matches', 'congratulated', 'ungrudgingly', 'armed', 'changed', 'commiserated', 'fortunate', 'perils', 'hasty', 'create', 'ugliness', 'searched', 'fields', 'finery', 'proposing', 'indignantly', 'protested', 'borrowed', 'plumes', 'milkmaid', 'maid', 'pail', 'musing', 'mishaps', 'fifty', 'highest', 'price', 'gown', 'christmas', 'junketings', 'toss', 'unison', 'count', 'playful', 'roof', 'building', 'tiling', 'beating', 'cudgel', 'yesterday', 'bond', 'wintry', 'talked', 'scalding', 'raised', 'cool', 'talks', 'sides', 'uprooted', 'wonder', 'winds', 'contend', 'consequently', 'unbroken', 'stoop', 'bringing', 'fruits', 'pleasures', 'heightened', 'abstinence', 'prowling', 'fondling', 'lambs', 'flocks', 'pupil', 'vices', 'transcriber', 'sheperd', 'cage', 'unreasonable', 'prison', 'freedom', 'foolishness', 'wasting', 'happiness', 'wholly', 'jealous', 'snatch', 'intruded', 'punishing', 'mount', 'enslaved', 'seeks', 'ocean', 'blame', 'sovereignty', 'denied', 'element', 'decide', 'devise', 'plans', 'devised', 'tie', 'tinkling', 'debated', 'completed', 'lading', 'level', 'skulked', 'flapped', 'exultingly', 'ruled', 'undisputed', 'goes', 'playing', 'pond', 'pelt', 'sided', 'submitted', 'remonstrance', 'reproof', 'example', 'precept', 'guard', 'watch', 'plotter', 'superiority', 'disputing', 'carved', 'represented', 'strangled', 'prevail', 'lions', 'statues', 'missing', 'brothers', 'cloven', 'heel', 'puffing', 'hugeness', 'waged', 'turns', 'conquerors', 'issues', 'deceitful', 'apparent', 'combatants', 'deceit', 'shunned', 'housekeeping', 'lessened', 'arrangement', 'concerned', 'whiten', 'blacken', 'escaping', 'occupied', 'sharply', 'butt', 'disposition', 'awakened', 'piteously', 'repay', 'hunters', 'ropes', 'recognizing', 'rope', 'idea', 'expecting', 'repayment', 'slowly', 'resist', 'appeal', 'winded', 'dung', 'cart', 'derided', 'gay', 'thyself', 'reduced', 'contempt', 'yielded', 'encountered', 'decay', 'disappointed', 'fault', 'praised', 'delight', 'necessity', 'invention', 'thistles', 'reapers', 'dine', 'mumble', 'epicures', 'delicate', 'viands', 'bitter', 'savory', 'relishing', 'exquisite', 'sumptuous', 'banquet', 'above', 'juicy', 'rejected', 'valued', 'lair', 'unrighteously', 'jeeringly', 'righteously', 'eh', 'gift', 'martial', 'exercises', 'adorned', 'walls', 'kinds', 'confined', 'afresh', 'detestable', 'girl', 'meaning', 'prickles', 'finger', 'inflammation', 'fainting', 'fever', 'petition', 'fitted', 'felled', 'strokes', 'giants', 'lamenting', 'cedar', 'privileges', 'ages', 'yielding', 'endanger', 'seaside', 'journeying', 'cliff', 'thence', 'object', 'boat', 'beach', 'anticipations', 'realities', 'swimming', 'walking', 'catching', 'gullet', 'richly', 'vastly', 'universal', 'praises', 'desirous', 'divert', 'guests', 'ridiculous', 'absurd', 'betters', 'suite', 'parrot', 'attendants', 'bulk', 'admire', 'belongs', 'skilled', 'music', 'projecting', 'tunes', 'aside', 'casting', 'haul', 'mastiff', 'collar', 'drag', 'appetite', 'compensate', 'liberty', 'overwhelmed', 'rueful', 'plunder', 'nuptials', 'soaring', 'shabbiest', 'fulfillment', 'promises', 'cow', 'steeping', 'impossibilities', 'result', 'panting', 'convulsively', 'tables', 'forego', 'purchaser', 'asses', 'eater', 'trial', 'chose', 'keeps', 'unusual', 'shook', 'frayed', 'garments', 'feeds', 'basest', 'ingratitude', 'longed', 'stratagem', 'fairness', 'complexion', 'deservedly', 'considered', 'deceitfully', 'aroused', 'caw', 'wit', 'listens', 'contention', 'inside', 'differed', 'pair', 'deprived', 'employed', 'fagots', 'summons', 'exhibited', 'spots', 'judged', 'coats', 'agitated', 'groans', 'noises', 'expectation', 'calamity', 'snout', 'smelt', 'accosting', 'jocularly', 'whispered', 'deserts', 'tests', 'sincerity', 'unto', 'mourn', 'invoke', 'prolonged', 'outraged', 'filching', 'prosperity', 'adversity', 'sum', 'extracted', 'grinning', 'sufficient', 'serving', 'wicked', 'thankful', 'excuse', 'accused', 'nuisance', 'permitting', 'rise', 'betimes', 'labors', 'abound', 'specious', 'apologies', 'deny', 'accusations', 'knowingly', 'advise', 'belly', 'reputation', 'stout', 'timid', 'runs', 'draws', 'sheath', 'tongue', 'deceive', 'dependence', 'pretensions', 'chestnuts', 'roasting', 'pussy', 'dwelt', 'amply', 'supplied', 'consequences', 'luxuriant', 'vintage', 'nibbled', 'tendrils', 'root', 'resort', 'strait', 'relating', 'pooh', 'affairs', 'rats', 'growl', 'scampering', 'rely', 'alive', 'slices', 'pacify', 'barking', 'relax', 'vigilance', 'gifts', 'watchful', 'unexpected', 'private', 'accomplish', 'usually', 'suspicions', 'bribes', 'inquire', 'health', 'sickness', 'failure', 'shooting', 'shoulder', 'trigger', 'adder', 'painfully', 'infected', 'mortify', 'owning', 'contriving', 'tune', 'complied', 'piper', 'touching', 'cub', 'sheepfold', 'tendencies', 'ensnare', 'slower', 'heavier', 'victor', 'wayfaring', 'keener', 'blasts', 'resigning', 'victory', 'rays', 'garment', 'fairly', 'undressed', 'bathed', 'laborer', 'porch', 'inflicted', 'severe', 'infant', 'parents', 'wriggled', 'missed', 'forget', 'injuries', 'striving', 'squeeze', 'passage', 'manage', 'presume', 'elders', 'shamefully', 'epileptic', 'credence', 'bruised', 'leech', 'wounds', 'healed', 'injuring', 'wonderful', 'heroic', 'visited', 'persons', 'test', 'desperate', 'singular', 'aversion', 'trepidation', 'confidence', 'leads', 'according', 'custom', 'stamping', 'bellowing', 'quaked', 'fawns', 'formidable', 'observe', 'vigorous', 'dismay', 'spirits', 'braggarts', 'cowards', 'entice', 'partridges', 'scruple', 'betraying', 'relations', 'twisted', 'pick', 'seed', 'trapped', 'fractured', 'limb', 'excite', 'aloud', 'feather', 'persisting', 'runner', 'difference', 'incentive', 'spurs', 'privilege', 'imaginary', 'involves', 'growling', 'snapping', 'selfish', 'refuses', 'deprive', 'nook', 'windfall', 'seem', 'talking', 'politics', 'bad', 'mrs', 'puss', 'invasion', 'undone', 'replies', 'pack', 'securely', 'whence', 'beheld', 'overtaken', 'torn', 'concealment', 'accurate', 'glance', 'furnished', 'arising', 'misconduct', 'hardest', 'sup', 'invitation', 'preparations', 'luck', 'revel', 'sly', 'incited', 'wagging', 'fro', 'yelping', 'liked', 'faith', 'deeply', 'stairs', 'established', 'ambassadors', 'entreating', 'simplicity', 'splash', 'motionless', 'squat', 'appointment', 'inert', 'deputation', 'eel', 'beg', 'displeased', 'complaints', 'heron', 'preyed', 'prophet', 'wizard', 'passers', 'doors', 'goods', 'sighed', 'foretell', 'foresee', 'smelled', 'sorely', 'tempted', 'resisted', 'faithfully', 'argue', 'thieves', 'chicken', 'stops', 'parley', 'likely', 'yield', 'nobleman', 'handsomely', 'jokes', 'report', 'imitated', 'admirably', 'porker', 'shaken', 'cheered', 'loudest', 'performers', 'grunted', 'squeaked', 'preceding', 'cheers', 'spectators', 'squeak', 'exact', 'rustic', 'greatness', 'critics', 'depended', 'scoundrel', 'happening', 'arch', 'nettled', 'familiarity', 'surprised', 'utter', 'impudent', 'untruth', 'resentment', 'rip', 'flank', 'stifling', 'foul', 'base', 'dignity', 'afford', 'inferiors', 'concealing', 'sad', 'merry', 'guise', 'lavish', 'praise', 'mindful', 'thoughtlessly', 'quenched', 'informed', 'suggested', 'scheme', 'fore', 'assenting', 'steadying', 'upbraided', 'beard', 'inspected', 'destructive', 'sharpened', 'exceedingly', 'ploughed', 'slaughter', 'unnecessary', 'unskillful', 'operators', 'beef', 'hurry', 'rider', 'lasted', 'helper', 'emergencies', 'chaff', 'loads', 'subjected', 'slavish', 'drudgery', 'military', 'clad', 'coat', 'en', 'transformed', 'slights', 'needed', 'sincerely', 'distrust', 'swifter', 'fright', 'advantages', 'mention', 'arguments', 'overlooking', 'larks', 'trusts', 'reap', 'mountains', 'mayest', 'assail', 'exhorting', 'sends', 'strike', 'tears', 'bitterly', 'bystander', 'allowance', 'fat', 'sleek', 'covetousness', 'overreacheth', 'priest', 'slay', 'safer', 'insisted', 'lighting', 'brushed', 'enraged', 'harnessed', 'tormented', 'reflections', 'yoke', 'festival', 'decided', 'underwood', 'ranging', 'swooped', 'cubs', 'inability', 'avenge', 'sacrificing', 'cinder', 'breeze', 'fanned', 'spark', 'flame', 'eaglets', 'unfledged', 'helpless', 'roasted', 'gobbled', 'oppresses', 'swoop', 'satisfy', 'senses', 'pursuing', 'bush', 'nourished', 'vipers', 'inflict', 'nourish', 'tending', 'kine', 'fruitless', 'vow', 'ascended', 'hillock', 'lifted', 'vowed', 'robbed', 'guardians', 'village', 'crying', 'heed', 'liar', 'speaks', 'defend', 'admitted', 'cote', 'havoc', 'remedy', 'disease', 'grounds', 'brandishing', 'chased', 'inspired', 'swung', 'ceased', 'charged', 'forsook', 'scare', 'suffice', 'overrun', 'continually', 'devoured', 'tempt', 'device', 'peg', 'suspending', 'success', 'whitened', 'bags', 'dangerously', 'stealthily', 'madam', 'real', 'appearances', 'perpetually', 'disputes', 'exhortations', 'succession', 'unclosed', 'separately', 'unite', 'uninjured', 'attempts', 'yourselves', 'disunited', 'afternoon', 'disturbed', 'sang', 'blinker', 'silence', 'artfully', 'follows', 'awake', 'bottle', 'nectar', 'finished', 'nap', 'comfort', 'proof', 'clusters', 'hanging', 'trellised', 'resorted', 'beguiling', 'sour', 'revile', 'streets', 'temples', 'lowly', 'prostration', 'heads', 'token', 'airs', 'whip', 'lustily', 'dull', 'worship', 'due', 'maltese', 'frisked', 'contrasted', 'jump', 'smashed', 'atoms', 'servants', 'strange', 'kicks', 'cuffs', 'lazily', 'basking', 'lamentation', 'float', 'red', 'letting', 'shell', 'ruined', 'admittance', 'annoyed', 'quills', 'repented', 'hospitality', 'virtue', 'exercised', 'entertain', 'schemed', 'foxes', 'publicly', 'tails', 'heeded', 'avenged', 'remembered', 'gored', 'assailed', 'impunity', 'forehead', 'lameness', 'consenting', 'healing', 'currycombing', 'rubbing', 'distant', 'intensely', 'shining', 'claimed', 'maintained', 'hire', 'substance', 'laboring', 'lighten', 'tumbled', 'expired', 'laziness', 'prepares', 'packs', 'sacks', 'bells', 'scuffle', 'owners', 'bewailed', 'conspicuous', 'risk', 'pastured', 'ambush', 'whilst', 'guileful', 'union', 'employing', 'drying', 'famine', 'during', 'brings', 'thirsty', 'goblet', 'unwittingly', 'jarred', 'zeal', 'discretion', 'upset', 'housekeeper', 'sweetness', 'placing', 'smeared', 'expiring', 'fishes', 'hauled', 'insignificance', 'implacable', 'warfare', 'disposed', 'dismiss', 'treaties', 'beguiled', 'unguarded', 'soup', 'shallow', 'dish', 'compliment', 'suffered', 'minced', 'glass', 'brims', 'vexed', 'owned', 'weasels', 'hostility', 'latter', 'swift', 'deeming', 'assertion', 'simply', 'steady', 'trusting', 'native', 'cared', 'comfortably', 'perseverance', 'surer', 'issued', 'offspring', 'presented', 'tenderness', 'nosed', 'hairless', 'featured', 'saluted', 'presentation', 'resolutely', 'prize', 'dearest', 'blinds', 'imperfections', 'woodcutter', 'expedient', 'willingness', 'extract', 'cheerfully', 'woodman', 'club', 'buried', 'lament', 'grieve', 'bury', 'fancy', 'steep', 'lower', 'mishap', 'added', 'meadows', 'herbage', 'invitations', 'wore', 'hat', 'rang', 'joke', 'marvel', 'forsaken', 'entrusted', 'felling', 'minutes', 'speaking', 'signs', 'departed', 'whereon', 'owe', 'thanked', 'fervently', 'abuse', 'annoy', 'language', 'fearfully', 'lacerated', 'exhausted', 'betide', 'belabored', 'happens', 'warning', 'incur', 'undertake', 'favorable', 'effecting', 'cattle', 'congratulating', 'sincere', 'properly', 'racks', 'scarcity', 'fodder', 'cobwebs', 'examined', 'summoning', 'laborers', 'eyrie', 'witnessed', 'stirred', 'emulate', 'intention', 'fluttered', 'clipped', 'lead', 'limits', 'tradesmen', 'besieged', 'protecting', 'bricklayer', 'recommended', 'affording', 'materials', 'carpenter', 'energy', 'timber', 'preferable', 'currier', 'sirs', 'differ', 'material', 'covering', 'leather', 'trained', 'naturally', 'mimics', 'pupils', 'arrayed', 'courtiers', 'courtier', 'bent', 'pocket', 'handful', 'actors', 'robes', 'laughter', 'assume', 'betray', 'grasshoppers', 'chirping', 'charms', 'voices', 'starve', 'roamed', 'amused', 'frightening', 'wanderings', 'bray', 'holding', 'helping', 'unconcernedly', 'scolded', 'imprudence', 'scold', 'springe', 'planted', 'daring', 'foe', 'cautiously', 'peeped', 'designing', 'artifice', 'imaginable', 'cousin', 'accident', 'befallen', 'creeping', 'homeward', 'farther', 'disaster', 'knife', 'conceal', 'case', 'reply', 'aid', 'guilt', 'entering', 'workshop', 'smith', 'tools', 'satisfying', 'minded', 'covetous', 'givers', 'wagon', 'lane', 'groaned', 'creaked', 'wheels', 'hallo', 'bee', 'garden', 'devour', 'swarms', 'maddened', 'acquainted', 'skimming', 'cheerful', 'sit', 'shivering', 'leafless', 'bough', 'sporting', 'miles', 'sensible', 'advance', 'urge', 'pairs', 'inch', 'gives', 'station', 'brayed', 'fuss', 'decease', 'grimaces', 'gambols', 'antic', 'majority', 'crown', 'distinction', 'baited', 'mock', 'humility', 'deign', 'accompany', 'arriving', 'snap', 'mad', 'sneer', 'extended', 'magnified', 'immense', 'extending', 'acre', 'acknowledged', 'indulging', 'repentance', 'estimation', 'exalted', 'opinion', 'merrily', 'debate', 'proves', 'scapegrace', 'dismount', 'tongues', 'ride', 'lad', 'townsman', 'liking', 'situation', 'tumbling', 'endeavoring', 'pleasing', 'nobody', 'noon', 'rested', 'singularly', 'bears', 'resting', 'describe', 'unprofitable', 'tired', 'repaired', 'imploring', 'bore', 'mistook', 'shouts', 'speak', 'roam', 'villager', 'hearth', 'fire', 'lain', 'revived', 'outcry', 'mattock', 'dispatched', 'upbraiding', 'vile', 'wretch', 'sell', 'wares', 'seriously', 'selling', 'illness', 'visiting', 'distinguished', 'flattered', 'flee', 'fettered', 'weapon', 'swore', 'rage', 'banished', 'gorgeous', 'ridiculing', 'ashen', 'hue', 'robed', 'purple', 'rainbow', 'soar', 'heights', 'dunghill', 'starveling', 'stuffed', 'crammed', 'puffed', 'groaning', 'thin', 'reduce', 'directed', 'arrows', 'savage', 'consternation', 'retired', 'thickets', 'resumed', 'engage', 'telling', 'wrongs', 'threats', 'lashing', 'ribs', 'barbed', 'hideous', 'anguish', 'painful', 'dart', 'valorous', 'reckoning', 'invincible', 'vulnerable', 'armor', 'roosting', 'managed', 'attract', 'dizzy', 'perch', 'victims', 'convenient', 'arts', 'colony', 'preparing', 'digging', 'uproot', 'litter', 'pigs', 'feigning', 'meanwhile', 'enmities', 'showy', 'stalking', 'affected', 'grandeur', 'multitude', 'brilliant', 'acclamation', 'admirer', 'vulture', 'descent', 'pithy', 'weakness', 'canceled', 'election', 'rude', 'locked', 'torrent', 'quench', 'rush', 'overhanging', 'plucked', 'leaf', 'climbing', 'lime', 'grateful', 'enmity', 'nests', 'provocation', 'stealth', 'complaint', 'unawares', 'frolicsome', 'overmuch', 'extravagant', 'mettled', 'racer', 'disconsolate', 'absent', 'sticking', 'fathers', 'deaf', 'noses', 'questions', 'rule', 'travels', 'affection', 'midway', 'plunge', 'dragging', 'struggling', 'floundering', 'commotion', 'train', 'inconsiderate', 'matched', 'ruin', 'compasses', 'sheared', 'closely', 'smarting', 'torture', 'dame', 'misery', 'shearer', 'clip', 'economy', 'cured', 'proclaims', 'supply', 'grazing', 'grave', 'skill', 'ailment', 'examine', 'ails', 'stormy', 'browse', 'cleared', 'hills', 'neglect', 'fortune', 'dissatisfied', 'income', 'loses', 'prime', 'fragrant', 'smell', 'former', 'backwards', 'forwards', 'nice', 'perfume', 'memory', 'cheap', 'thither', 'slippery', 'ledge', 'melted', 'gained', 'onward', 'crossed', 'formerly', 'dissolving', 'provoked', 'freighted', 'sponges', 'homewards', 'lightening', 'doubled', 'measures', 'suit', 'circumstances', 'settling', 'pardon', 'incommoding', 'inconveniences', 'tis', 'conceit', 'alertness', 'furious', 'defeating', 'carelessness', 'instantly', 'booty', 'ended', 'hearty', 'dividing', 'gathering', 'reserved', 'smallest', 'mite', 'equitable', 'wanted', 'lesson', 'cropped', 'cruelty', 'ashamed', 'kennel', 'friendly', 'peaceful', 'looks', 'issue', 'whichever', 'soonest', 'accounted', 'blast', 'thracian', 'tighter', 'beams', 'dispersed', 'vapor', 'sunshine', 'gentle', 'threatenings', 'blustering', 'authority', 'whetting', 'sharpen', 'whet', 'sounds', 'deer', 'ere', 'pretty', 'fluttering', 'regained', 'month', 'bow', 'loosened', 'fixed', 'gains', 'gaze', 'rapt', 'pry', 'mysteries', 'overlook', 'objects', 'miss', 'aspiring', 'leader', 'groan', 'quake', 'thoughtless', 'supremacy', 'defeated', 'marshes', 'trample', 'follies', 'schoolboy', 'book', 'schoolfellows', 'chastising', 'sentenced', 'scaffold', 'moan', 'sob', 'theft', 'corrected', 'sorrowful', 'nip', 'bud', 'bachelor', 'marry', 'blooming', 'youthful', 'advanced', 'match', 'industrious', 'submits', 'influence', 'caprices', 'earnings', 'snared', 'bravest', 'fourth', 'dares', 'low', 'shrubs', 'excited', 'exaggerates', 'threatened', 'preserved', 'deliver', 'harsh', 'whales', 'separate', 'reconciled', 'beholding', 'cargo', 'repose', 'plaintiffs', 'defendants', 'alike', 'render', 'doubtful', 'hive', 'build', 'cells', 'lawful', 'proprietors', 'plan', 'declined', 'whereupon', 'judgment', 'clear', 'adjudges', 'professions', 'tested', 'latched', 'bid', 'overheard', 'knocking', 'crack', 'depart', 'sureties', 'gorge', 'covered', 'myriads', 'wandering', 'direction', 'tormenting', 'swarm', 'fresh', 'rulers', 'dependents', 'bleed', 'hammered', 'metals', 'shaking', 'sluggard', 'hammering', 'anvil', 'mat', 'begin', 'wag', 'blessing', 'necessities', 'shares', 'resign', 'prospering', 'plants', 'watered', 'fared', 'shine', 'bright', 'sister', 'join', 'boastingly', 'useful', 'everywhere', 'roofs', 'houses', 'axes', 'saws', 'hew', 'poverty', 'store', 'trove', 'counseled', 'carelessly', 'accusing', 'purposely', 'insure', 'bedside', 'vineyards', 'spades', 'mattocks', 'dug', 'portion', 'vines', 'repaid', 'extraordinary', 'superabundant', 'ailing', 'dressed', 'cane', 'instruments', 'profession', 'knocked', 'inmates', 'lend', 'surety', 'fraud', 'excused', 'blacks', 'washing', 'lakes', 'pools', 'cleansing', 'alter', 'controversy', 'producing', 'whelps', 'clamorously', 'settlement', 'thorough', 'bred', 'named', 'txt', 'zip', 'marilynda', 'fraser', 'cunliffe', 'karina', 'aleksandrova', 'proofreading', 'pgdp', 'updated', 'replace', 'renamed', 'print', 'apply', 'specific', 'creation', 'reports', 'performances', 'modified', 'practically', 'subject', 'especially', 'commercial', 'reading', 'indicate', 'lot', 'preserve', 'compilation', 'claim', 'prevent', 'sharing', 'd', 'countries', 'addition', 'downloading', 'representations', 'appears', 'accessed', 'displayed', 'performed', 'viewed', 'restrictions', 're', 'derived', 'indicating', 'charges', 'appearing', 'imposed', 'linked', 'unlink', 'detach', 'containing', 'display', 'redistribute', 'convert', 'binary', 'compressed', 'nonproprietary', 'proprietary', 'processing', 'hypertext', 'version', 'expense', 'exporting', 'alternate', 'include', 'viewing', '20', 'gross', 'profits', 'derive', 'calculated', 'calculate', 'taxes', 'owed', '60', 'legally', 'periodic', 'returns', 'clearly', 'address', 'notifies', '30', 'require', 'discontinue', 'reported', 'expend', 'identify', 'transcribe', 'proofread', 'despite', 'stored', 'defects', 'incomplete', 'inaccurate', 'corrupt', 'data', 'transcription', 'errors', 'infringement', 'damaged', 'disk', 'virus', 'codes', 'described', 'disclaim', 'remedies', 'negligence', 'f3', 'distributor', 'liable', 'actual', 'direct', 'indirect', 'consequential', 'punitive', 'incidental', 'possibility', 'demand', 'problem', 'merchantibility', 'fitness', 'disclaimers', 'exclusion', 'types', 'violates', 'interpreted', 'maximum', 'invalidity', 'unenforceability', 'void', 'remaining', 'indemnity', 'indemnify', 'agent', 'employee', 'production', 'promotion', 'indirectly', 'occur', 'alteration', 'modification', 'additions', 'deletions', 'synonymous', 'obsolete', 'exists', 'walks', 'financial', 'critical', 'goals', 'ensuring', '2001', 'permanent', 'sections', 'non', 'educational', 'corporation', 'organized', 'mississippi', 'granted', 'internal', 'revenue', 'ein', 'identification', '64', '6221541', 'letter', 'fundraising', 'deductible', 'principal', '4557', 'melan', 'fairbanks', 'ak', '99712', 'scattered', 'throughout', '809', '1500', 'west', 'ut', '84116', '801', '596', '1887', 'gregory', 'newby', 'chief', 'executive', 'director', 'gbnewby', 'depends', 'survive', 'increasing', 'licensed', 'machine', 'accessible', 'array', 'outdated', '000', 'important', 'maintaining', 'irs', 'regulating', 'charities', 'charitable', '50', 'uniform', 'takes', 'paperwork', 'confirmation', 'determine', 'solicitation', 'prohibition', 'accepting', 'unsolicited', 'donors', 'international', 'gratefully', 'statements', 'swamp', 'staff', 'pages', 'current', 'donation', 'methods', 'addresses', 'ways', 'checks', 'card', 'professor', 'originator', 'library', 'thirty', 'loose', 'network', 'volunteer', 'confirmed', 'necessarily', 'paper', 'edition', 'pg', 'facility', 'includes', 'subscribe', 'newsletter']\n"
     ]
    },
    {
     "ename": "LookupError",
     "evalue": "\n**********************************************************************\n  Resource \u001b[93mwordnet\u001b[0m not found.\n  Please use the NLTK Downloader to obtain the resource:\n\n  \u001b[31m>>> import nltk\n  >>> nltk.download('wordnet')\n  \u001b[0m\n  For more information see: https://www.nltk.org/data.html\n\n  Attempted to load \u001b[93mcorpora/wordnet\u001b[0m\n\n  Searched in:\n    - 'C:\\\\Users\\\\faust/nltk_data'\n    - 'C:\\\\Users\\\\faust\\\\anaconda3\\\\nltk_data'\n    - 'C:\\\\Users\\\\faust\\\\anaconda3\\\\share\\\\nltk_data'\n    - 'C:\\\\Users\\\\faust\\\\anaconda3\\\\lib\\\\nltk_data'\n    - 'C:\\\\Users\\\\faust\\\\AppData\\\\Roaming\\\\nltk_data'\n    - 'C:\\\\nltk_data'\n    - 'D:\\\\nltk_data'\n    - 'E:\\\\nltk_data'\n**********************************************************************\n",
     "output_type": "error",
     "traceback": [
      "\u001b[1;31m---------------------------------------------------------------------------\u001b[0m",
      "\u001b[1;31mLookupError\u001b[0m                               Traceback (most recent call last)",
      "\u001b[1;32m~\\anaconda3\\lib\\site-packages\\nltk\\corpus\\util.py\u001b[0m in \u001b[0;36m__load\u001b[1;34m(self)\u001b[0m\n\u001b[0;32m     82\u001b[0m                 \u001b[1;32mtry\u001b[0m\u001b[1;33m:\u001b[0m\u001b[1;33m\u001b[0m\u001b[1;33m\u001b[0m\u001b[0m\n\u001b[1;32m---> 83\u001b[1;33m                     \u001b[0mroot\u001b[0m \u001b[1;33m=\u001b[0m \u001b[0mnltk\u001b[0m\u001b[1;33m.\u001b[0m\u001b[0mdata\u001b[0m\u001b[1;33m.\u001b[0m\u001b[0mfind\u001b[0m\u001b[1;33m(\u001b[0m\u001b[1;34m\"{}/{}\"\u001b[0m\u001b[1;33m.\u001b[0m\u001b[0mformat\u001b[0m\u001b[1;33m(\u001b[0m\u001b[0mself\u001b[0m\u001b[1;33m.\u001b[0m\u001b[0msubdir\u001b[0m\u001b[1;33m,\u001b[0m \u001b[0mzip_name\u001b[0m\u001b[1;33m)\u001b[0m\u001b[1;33m)\u001b[0m\u001b[1;33m\u001b[0m\u001b[1;33m\u001b[0m\u001b[0m\n\u001b[0m\u001b[0;32m     84\u001b[0m                 \u001b[1;32mexcept\u001b[0m \u001b[0mLookupError\u001b[0m\u001b[1;33m:\u001b[0m\u001b[1;33m\u001b[0m\u001b[1;33m\u001b[0m\u001b[0m\n",
      "\u001b[1;32m~\\anaconda3\\lib\\site-packages\\nltk\\data.py\u001b[0m in \u001b[0;36mfind\u001b[1;34m(resource_name, paths)\u001b[0m\n\u001b[0;32m    582\u001b[0m     \u001b[0mresource_not_found\u001b[0m \u001b[1;33m=\u001b[0m \u001b[1;34m\"\\n%s\\n%s\\n%s\\n\"\u001b[0m \u001b[1;33m%\u001b[0m \u001b[1;33m(\u001b[0m\u001b[0msep\u001b[0m\u001b[1;33m,\u001b[0m \u001b[0mmsg\u001b[0m\u001b[1;33m,\u001b[0m \u001b[0msep\u001b[0m\u001b[1;33m)\u001b[0m\u001b[1;33m\u001b[0m\u001b[1;33m\u001b[0m\u001b[0m\n\u001b[1;32m--> 583\u001b[1;33m     \u001b[1;32mraise\u001b[0m \u001b[0mLookupError\u001b[0m\u001b[1;33m(\u001b[0m\u001b[0mresource_not_found\u001b[0m\u001b[1;33m)\u001b[0m\u001b[1;33m\u001b[0m\u001b[1;33m\u001b[0m\u001b[0m\n\u001b[0m\u001b[0;32m    584\u001b[0m \u001b[1;33m\u001b[0m\u001b[0m\n",
      "\u001b[1;31mLookupError\u001b[0m: \n**********************************************************************\n  Resource \u001b[93mwordnet\u001b[0m not found.\n  Please use the NLTK Downloader to obtain the resource:\n\n  \u001b[31m>>> import nltk\n  >>> nltk.download('wordnet')\n  \u001b[0m\n  For more information see: https://www.nltk.org/data.html\n\n  Attempted to load \u001b[93mcorpora/wordnet.zip/wordnet/\u001b[0m\n\n  Searched in:\n    - 'C:\\\\Users\\\\faust/nltk_data'\n    - 'C:\\\\Users\\\\faust\\\\anaconda3\\\\nltk_data'\n    - 'C:\\\\Users\\\\faust\\\\anaconda3\\\\share\\\\nltk_data'\n    - 'C:\\\\Users\\\\faust\\\\anaconda3\\\\lib\\\\nltk_data'\n    - 'C:\\\\Users\\\\faust\\\\AppData\\\\Roaming\\\\nltk_data'\n    - 'C:\\\\nltk_data'\n    - 'D:\\\\nltk_data'\n    - 'E:\\\\nltk_data'\n**********************************************************************\n",
      "\nDuring handling of the above exception, another exception occurred:\n",
      "\u001b[1;31mLookupError\u001b[0m                               Traceback (most recent call last)",
      "\u001b[1;32m<ipython-input-46-e4065fad1b26>\u001b[0m in \u001b[0;36m<module>\u001b[1;34m\u001b[0m\n\u001b[0;32m     25\u001b[0m \u001b[1;31m# Lemmas\u001b[0m\u001b[1;33m\u001b[0m\u001b[1;33m\u001b[0m\u001b[1;33m\u001b[0m\u001b[0m\n\u001b[0;32m     26\u001b[0m \u001b[0mwnl\u001b[0m \u001b[1;33m=\u001b[0m \u001b[0mnltk\u001b[0m\u001b[1;33m.\u001b[0m\u001b[0mWordNetLemmatizer\u001b[0m\u001b[1;33m(\u001b[0m\u001b[1;33m)\u001b[0m\u001b[1;33m\u001b[0m\u001b[1;33m\u001b[0m\u001b[0m\n\u001b[1;32m---> 27\u001b[1;33m \u001b[0mlemmas\u001b[0m \u001b[1;33m=\u001b[0m \u001b[1;33m[\u001b[0m\u001b[0mwnl\u001b[0m\u001b[1;33m.\u001b[0m\u001b[0mlemmatize\u001b[0m\u001b[1;33m(\u001b[0m\u001b[0mt\u001b[0m\u001b[1;33m)\u001b[0m \u001b[1;32mfor\u001b[0m \u001b[0mt\u001b[0m \u001b[1;32min\u001b[0m \u001b[0mtokenized\u001b[0m\u001b[1;33m]\u001b[0m\u001b[1;33m\u001b[0m\u001b[1;33m\u001b[0m\u001b[0m\n\u001b[0m\u001b[0;32m     28\u001b[0m \u001b[1;31m# Length of sentences\u001b[0m\u001b[1;33m\u001b[0m\u001b[1;33m\u001b[0m\u001b[1;33m\u001b[0m\u001b[0m\n\u001b[0;32m     29\u001b[0m \u001b[0mprint\u001b[0m\u001b[1;33m(\u001b[0m\u001b[1;34m\"Length of sentences: \"\u001b[0m\u001b[1;33m,\u001b[0m \u001b[0mlength\u001b[0m\u001b[1;33m/\u001b[0m\u001b[1;33m(\u001b[0m\u001b[0mno_sentences\u001b[0m\u001b[1;33m)\u001b[0m\u001b[1;33m)\u001b[0m\u001b[1;33m\u001b[0m\u001b[1;33m\u001b[0m\u001b[0m\n",
      "\u001b[1;32m<ipython-input-46-e4065fad1b26>\u001b[0m in \u001b[0;36m<listcomp>\u001b[1;34m(.0)\u001b[0m\n\u001b[0;32m     25\u001b[0m \u001b[1;31m# Lemmas\u001b[0m\u001b[1;33m\u001b[0m\u001b[1;33m\u001b[0m\u001b[1;33m\u001b[0m\u001b[0m\n\u001b[0;32m     26\u001b[0m \u001b[0mwnl\u001b[0m \u001b[1;33m=\u001b[0m \u001b[0mnltk\u001b[0m\u001b[1;33m.\u001b[0m\u001b[0mWordNetLemmatizer\u001b[0m\u001b[1;33m(\u001b[0m\u001b[1;33m)\u001b[0m\u001b[1;33m\u001b[0m\u001b[1;33m\u001b[0m\u001b[0m\n\u001b[1;32m---> 27\u001b[1;33m \u001b[0mlemmas\u001b[0m \u001b[1;33m=\u001b[0m \u001b[1;33m[\u001b[0m\u001b[0mwnl\u001b[0m\u001b[1;33m.\u001b[0m\u001b[0mlemmatize\u001b[0m\u001b[1;33m(\u001b[0m\u001b[0mt\u001b[0m\u001b[1;33m)\u001b[0m \u001b[1;32mfor\u001b[0m \u001b[0mt\u001b[0m \u001b[1;32min\u001b[0m \u001b[0mtokenized\u001b[0m\u001b[1;33m]\u001b[0m\u001b[1;33m\u001b[0m\u001b[1;33m\u001b[0m\u001b[0m\n\u001b[0m\u001b[0;32m     28\u001b[0m \u001b[1;31m# Length of sentences\u001b[0m\u001b[1;33m\u001b[0m\u001b[1;33m\u001b[0m\u001b[1;33m\u001b[0m\u001b[0m\n\u001b[0;32m     29\u001b[0m \u001b[0mprint\u001b[0m\u001b[1;33m(\u001b[0m\u001b[1;34m\"Length of sentences: \"\u001b[0m\u001b[1;33m,\u001b[0m \u001b[0mlength\u001b[0m\u001b[1;33m/\u001b[0m\u001b[1;33m(\u001b[0m\u001b[0mno_sentences\u001b[0m\u001b[1;33m)\u001b[0m\u001b[1;33m)\u001b[0m\u001b[1;33m\u001b[0m\u001b[1;33m\u001b[0m\u001b[0m\n",
      "\u001b[1;32m~\\anaconda3\\lib\\site-packages\\nltk\\stem\\wordnet.py\u001b[0m in \u001b[0;36mlemmatize\u001b[1;34m(self, word, pos)\u001b[0m\n\u001b[0;32m     36\u001b[0m \u001b[1;33m\u001b[0m\u001b[0m\n\u001b[0;32m     37\u001b[0m     \u001b[1;32mdef\u001b[0m \u001b[0mlemmatize\u001b[0m\u001b[1;33m(\u001b[0m\u001b[0mself\u001b[0m\u001b[1;33m,\u001b[0m \u001b[0mword\u001b[0m\u001b[1;33m,\u001b[0m \u001b[0mpos\u001b[0m\u001b[1;33m=\u001b[0m\u001b[0mNOUN\u001b[0m\u001b[1;33m)\u001b[0m\u001b[1;33m:\u001b[0m\u001b[1;33m\u001b[0m\u001b[1;33m\u001b[0m\u001b[0m\n\u001b[1;32m---> 38\u001b[1;33m         \u001b[0mlemmas\u001b[0m \u001b[1;33m=\u001b[0m \u001b[0mwordnet\u001b[0m\u001b[1;33m.\u001b[0m\u001b[0m_morphy\u001b[0m\u001b[1;33m(\u001b[0m\u001b[0mword\u001b[0m\u001b[1;33m,\u001b[0m \u001b[0mpos\u001b[0m\u001b[1;33m)\u001b[0m\u001b[1;33m\u001b[0m\u001b[1;33m\u001b[0m\u001b[0m\n\u001b[0m\u001b[0;32m     39\u001b[0m         \u001b[1;32mreturn\u001b[0m \u001b[0mmin\u001b[0m\u001b[1;33m(\u001b[0m\u001b[0mlemmas\u001b[0m\u001b[1;33m,\u001b[0m \u001b[0mkey\u001b[0m\u001b[1;33m=\u001b[0m\u001b[0mlen\u001b[0m\u001b[1;33m)\u001b[0m \u001b[1;32mif\u001b[0m \u001b[0mlemmas\u001b[0m \u001b[1;32melse\u001b[0m \u001b[0mword\u001b[0m\u001b[1;33m\u001b[0m\u001b[1;33m\u001b[0m\u001b[0m\n\u001b[0;32m     40\u001b[0m \u001b[1;33m\u001b[0m\u001b[0m\n",
      "\u001b[1;32m~\\anaconda3\\lib\\site-packages\\nltk\\corpus\\util.py\u001b[0m in \u001b[0;36m__getattr__\u001b[1;34m(self, attr)\u001b[0m\n\u001b[0;32m    118\u001b[0m             \u001b[1;32mraise\u001b[0m \u001b[0mAttributeError\u001b[0m\u001b[1;33m(\u001b[0m\u001b[1;34m\"LazyCorpusLoader object has no attribute '__bases__'\"\u001b[0m\u001b[1;33m)\u001b[0m\u001b[1;33m\u001b[0m\u001b[1;33m\u001b[0m\u001b[0m\n\u001b[0;32m    119\u001b[0m \u001b[1;33m\u001b[0m\u001b[0m\n\u001b[1;32m--> 120\u001b[1;33m         \u001b[0mself\u001b[0m\u001b[1;33m.\u001b[0m\u001b[0m__load\u001b[0m\u001b[1;33m(\u001b[0m\u001b[1;33m)\u001b[0m\u001b[1;33m\u001b[0m\u001b[1;33m\u001b[0m\u001b[0m\n\u001b[0m\u001b[0;32m    121\u001b[0m         \u001b[1;31m# This looks circular, but its not, since __load() changes our\u001b[0m\u001b[1;33m\u001b[0m\u001b[1;33m\u001b[0m\u001b[1;33m\u001b[0m\u001b[0m\n\u001b[0;32m    122\u001b[0m         \u001b[1;31m# __class__ to something new:\u001b[0m\u001b[1;33m\u001b[0m\u001b[1;33m\u001b[0m\u001b[1;33m\u001b[0m\u001b[0m\n",
      "\u001b[1;32m~\\anaconda3\\lib\\site-packages\\nltk\\corpus\\util.py\u001b[0m in \u001b[0;36m__load\u001b[1;34m(self)\u001b[0m\n\u001b[0;32m     83\u001b[0m                     \u001b[0mroot\u001b[0m \u001b[1;33m=\u001b[0m \u001b[0mnltk\u001b[0m\u001b[1;33m.\u001b[0m\u001b[0mdata\u001b[0m\u001b[1;33m.\u001b[0m\u001b[0mfind\u001b[0m\u001b[1;33m(\u001b[0m\u001b[1;34m\"{}/{}\"\u001b[0m\u001b[1;33m.\u001b[0m\u001b[0mformat\u001b[0m\u001b[1;33m(\u001b[0m\u001b[0mself\u001b[0m\u001b[1;33m.\u001b[0m\u001b[0msubdir\u001b[0m\u001b[1;33m,\u001b[0m \u001b[0mzip_name\u001b[0m\u001b[1;33m)\u001b[0m\u001b[1;33m)\u001b[0m\u001b[1;33m\u001b[0m\u001b[1;33m\u001b[0m\u001b[0m\n\u001b[0;32m     84\u001b[0m                 \u001b[1;32mexcept\u001b[0m \u001b[0mLookupError\u001b[0m\u001b[1;33m:\u001b[0m\u001b[1;33m\u001b[0m\u001b[1;33m\u001b[0m\u001b[0m\n\u001b[1;32m---> 85\u001b[1;33m                     \u001b[1;32mraise\u001b[0m \u001b[0me\u001b[0m\u001b[1;33m\u001b[0m\u001b[1;33m\u001b[0m\u001b[0m\n\u001b[0m\u001b[0;32m     86\u001b[0m \u001b[1;33m\u001b[0m\u001b[0m\n\u001b[0;32m     87\u001b[0m         \u001b[1;31m# Load the corpus.\u001b[0m\u001b[1;33m\u001b[0m\u001b[1;33m\u001b[0m\u001b[1;33m\u001b[0m\u001b[0m\n",
      "\u001b[1;32m~\\anaconda3\\lib\\site-packages\\nltk\\corpus\\util.py\u001b[0m in \u001b[0;36m__load\u001b[1;34m(self)\u001b[0m\n\u001b[0;32m     78\u001b[0m         \u001b[1;32melse\u001b[0m\u001b[1;33m:\u001b[0m\u001b[1;33m\u001b[0m\u001b[1;33m\u001b[0m\u001b[0m\n\u001b[0;32m     79\u001b[0m             \u001b[1;32mtry\u001b[0m\u001b[1;33m:\u001b[0m\u001b[1;33m\u001b[0m\u001b[1;33m\u001b[0m\u001b[0m\n\u001b[1;32m---> 80\u001b[1;33m                 \u001b[0mroot\u001b[0m \u001b[1;33m=\u001b[0m \u001b[0mnltk\u001b[0m\u001b[1;33m.\u001b[0m\u001b[0mdata\u001b[0m\u001b[1;33m.\u001b[0m\u001b[0mfind\u001b[0m\u001b[1;33m(\u001b[0m\u001b[1;34m\"{}/{}\"\u001b[0m\u001b[1;33m.\u001b[0m\u001b[0mformat\u001b[0m\u001b[1;33m(\u001b[0m\u001b[0mself\u001b[0m\u001b[1;33m.\u001b[0m\u001b[0msubdir\u001b[0m\u001b[1;33m,\u001b[0m \u001b[0mself\u001b[0m\u001b[1;33m.\u001b[0m\u001b[0m__name\u001b[0m\u001b[1;33m)\u001b[0m\u001b[1;33m)\u001b[0m\u001b[1;33m\u001b[0m\u001b[1;33m\u001b[0m\u001b[0m\n\u001b[0m\u001b[0;32m     81\u001b[0m             \u001b[1;32mexcept\u001b[0m \u001b[0mLookupError\u001b[0m \u001b[1;32mas\u001b[0m \u001b[0me\u001b[0m\u001b[1;33m:\u001b[0m\u001b[1;33m\u001b[0m\u001b[1;33m\u001b[0m\u001b[0m\n\u001b[0;32m     82\u001b[0m                 \u001b[1;32mtry\u001b[0m\u001b[1;33m:\u001b[0m\u001b[1;33m\u001b[0m\u001b[1;33m\u001b[0m\u001b[0m\n",
      "\u001b[1;32m~\\anaconda3\\lib\\site-packages\\nltk\\data.py\u001b[0m in \u001b[0;36mfind\u001b[1;34m(resource_name, paths)\u001b[0m\n\u001b[0;32m    581\u001b[0m     \u001b[0msep\u001b[0m \u001b[1;33m=\u001b[0m \u001b[1;34m\"*\"\u001b[0m \u001b[1;33m*\u001b[0m \u001b[1;36m70\u001b[0m\u001b[1;33m\u001b[0m\u001b[1;33m\u001b[0m\u001b[0m\n\u001b[0;32m    582\u001b[0m     \u001b[0mresource_not_found\u001b[0m \u001b[1;33m=\u001b[0m \u001b[1;34m\"\\n%s\\n%s\\n%s\\n\"\u001b[0m \u001b[1;33m%\u001b[0m \u001b[1;33m(\u001b[0m\u001b[0msep\u001b[0m\u001b[1;33m,\u001b[0m \u001b[0mmsg\u001b[0m\u001b[1;33m,\u001b[0m \u001b[0msep\u001b[0m\u001b[1;33m)\u001b[0m\u001b[1;33m\u001b[0m\u001b[1;33m\u001b[0m\u001b[0m\n\u001b[1;32m--> 583\u001b[1;33m     \u001b[1;32mraise\u001b[0m \u001b[0mLookupError\u001b[0m\u001b[1;33m(\u001b[0m\u001b[0mresource_not_found\u001b[0m\u001b[1;33m)\u001b[0m\u001b[1;33m\u001b[0m\u001b[1;33m\u001b[0m\u001b[0m\n\u001b[0m\u001b[0;32m    584\u001b[0m \u001b[1;33m\u001b[0m\u001b[0m\n\u001b[0;32m    585\u001b[0m \u001b[1;33m\u001b[0m\u001b[0m\n",
      "\u001b[1;31mLookupError\u001b[0m: \n**********************************************************************\n  Resource \u001b[93mwordnet\u001b[0m not found.\n  Please use the NLTK Downloader to obtain the resource:\n\n  \u001b[31m>>> import nltk\n  >>> nltk.download('wordnet')\n  \u001b[0m\n  For more information see: https://www.nltk.org/data.html\n\n  Attempted to load \u001b[93mcorpora/wordnet\u001b[0m\n\n  Searched in:\n    - 'C:\\\\Users\\\\faust/nltk_data'\n    - 'C:\\\\Users\\\\faust\\\\anaconda3\\\\nltk_data'\n    - 'C:\\\\Users\\\\faust\\\\anaconda3\\\\share\\\\nltk_data'\n    - 'C:\\\\Users\\\\faust\\\\anaconda3\\\\lib\\\\nltk_data'\n    - 'C:\\\\Users\\\\faust\\\\AppData\\\\Roaming\\\\nltk_data'\n    - 'C:\\\\nltk_data'\n    - 'D:\\\\nltk_data'\n    - 'E:\\\\nltk_data'\n**********************************************************************\n"
     ]
    }
   ],
   "source": [
    "# Number of words\n",
    "length = [len(x) for x in tokenized]\n",
    "length = sum(length)\n",
    "print(\"Number of words: \", length)\n",
    "\n",
    "# No sentences\n",
    "no_sentences = len(sentences)\n",
    "print(\"Number of sentences: \", no_sentences)\n",
    "\n",
    "# Hapaxes\n",
    "count = {}\n",
    "for sentence in tokenized:\n",
    "    for word in sentence:\n",
    "        if word in count:\n",
    "            count[word] += 1\n",
    "        else:\n",
    "            count[word] = 1\n",
    "\n",
    "hapaxes = []\n",
    "for word in count.keys():\n",
    "    if count[word] == 1:\n",
    "        hapaxes.append(word)\n",
    "print(hapaxes)\n",
    "\n",
    "# Lemmas\n",
    "wnl = nltk.WordNetLemmatizer()\n",
    "lemmas = [wnl.lemmatize(t) for t in tokenized]\n",
    "# Length of sentences\n",
    "print(\"Length of sentences: \", length/(no_sentences))"
   ]
  },
  {
   "cell_type": "code",
   "execution_count": 39,
   "id": "39c05eb5",
   "metadata": {},
   "outputs": [
    {
     "data": {
      "text/plain": [
       "17.641732283464567"
      ]
     },
     "execution_count": 39,
     "metadata": {},
     "output_type": "execute_result"
    }
   ],
   "source": []
  },
  {
   "cell_type": "code",
   "execution_count": 41,
   "id": "d11f87b4",
   "metadata": {},
   "outputs": [
    {
     "name": "stdout",
     "output_type": "stream",
     "text": [
      "1778 1709\n"
     ]
    }
   ],
   "source": [
    "print(len(sentences), len(tokenized))"
   ]
  },
  {
   "cell_type": "code",
   "execution_count": 47,
   "id": "6cc89a0b",
   "metadata": {},
   "outputs": [
    {
     "ename": "NameError",
     "evalue": "name 'lemmas' is not defined",
     "output_type": "error",
     "traceback": [
      "\u001b[1;31m---------------------------------------------------------------------------\u001b[0m",
      "\u001b[1;31mNameError\u001b[0m                                 Traceback (most recent call last)",
      "\u001b[1;32m<ipython-input-47-086ca95bcdb3>\u001b[0m in \u001b[0;36m<module>\u001b[1;34m\u001b[0m\n\u001b[1;32m----> 1\u001b[1;33m \u001b[0mlemmas\u001b[0m\u001b[1;33m\u001b[0m\u001b[1;33m\u001b[0m\u001b[0m\n\u001b[0m",
      "\u001b[1;31mNameError\u001b[0m: name 'lemmas' is not defined"
     ]
    }
   ],
   "source": [
    "lemmas"
   ]
  },
  {
   "cell_type": "code",
   "execution_count": null,
   "id": "5b5488f6",
   "metadata": {},
   "outputs": [
    {
     "name": "stdout",
     "output_type": "stream",
     "text": [
      "showing info https://raw.githubusercontent.com/nltk/nltk_data/gh-pages/index.xml\n"
     ]
    }
   ],
   "source": [
    "nltk.download()"
   ]
  }
 ],
 "metadata": {
  "kernelspec": {
   "display_name": "Python 3",
   "language": "python",
   "name": "python3"
  },
  "language_info": {
   "codemirror_mode": {
    "name": "ipython",
    "version": 3
   },
   "file_extension": ".py",
   "mimetype": "text/x-python",
   "name": "python",
   "nbconvert_exporter": "python",
   "pygments_lexer": "ipython3",
   "version": "3.8.8"
  }
 },
 "nbformat": 4,
 "nbformat_minor": 5
}
